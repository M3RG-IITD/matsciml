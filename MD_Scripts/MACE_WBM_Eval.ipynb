{
 "cells": [
  {
   "cell_type": "code",
   "execution_count": 1,
   "metadata": {},
   "outputs": [],
   "source": [
    "from __future__ import annotations\n",
    "\n",
    "import pytorch_lightning as pl\n",
    "from torch import nn\n",
    "import torch\n",
    "\n",
    "from matsciml.datasets.transforms import (\n",
    "    PeriodicPropertiesTransform,\n",
    "    PointCloudToGraphTransform,\n",
    "    FrameAveraging,\n",
    ")\n",
    "\n",
    "from matsciml.lightning.data_utils import MatSciMLDataModule\n",
    "from matsciml.models.base import ScalarRegressionTask"
   ]
  },
  {
   "cell_type": "code",
   "execution_count": 2,
   "metadata": {},
   "outputs": [
    {
     "name": "stderr",
     "output_type": "stream",
     "text": [
      "/home/m3rg2000/miniconda3/envs/matsciml/lib/python3.9/site-packages/pytorch_lightning/utilities/parsing.py:199: Attribute 'gate' is an instance of `nn.Module` and is already saved during checkpointing. It is recommended to ignore them using `self.save_hyperparameters(ignore=['gate'])`.\n",
      "No ``atomic_energies`` provided, defaulting to ones.\n",
      "/home/m3rg2000/miniconda3/envs/matsciml/lib/python3.9/site-packages/torch/jit/_check.py:177: UserWarning: The TorchScript type system doesn't support instance-level annotations on empty non-base types in `__init__`. Instead, either 1) use a type annotation in the class body, or 2) wrap the type in `torch.jit.Attribute`.\n",
      "  warnings.warn(\n"
     ]
    },
    {
     "name": "stderr",
     "output_type": "stream",
     "text": [
      "/home/m3rg2000/miniconda3/envs/matsciml/lib/python3.9/site-packages/torch/jit/_check.py:177: UserWarning: The TorchScript type system doesn't support instance-level annotations on empty non-base types in `__init__`. Instead, either 1) use a type annotation in the class body, or 2) wrap the type in `torch.jit.Attribute`.\n",
      "  warnings.warn(\n",
      "/home/m3rg2000/miniconda3/envs/matsciml/lib/python3.9/site-packages/torch/jit/_check.py:177: UserWarning: The TorchScript type system doesn't support instance-level annotations on empty non-base types in `__init__`. Instead, either 1) use a type annotation in the class body, or 2) wrap the type in `torch.jit.Attribute`.\n",
      "  warnings.warn(\n",
      "/home/m3rg2000/miniconda3/envs/matsciml/lib/python3.9/site-packages/torch/jit/_check.py:177: UserWarning: The TorchScript type system doesn't support instance-level annotations on empty non-base types in `__init__`. Instead, either 1) use a type annotation in the class body, or 2) wrap the type in `torch.jit.Attribute`.\n",
      "  warnings.warn(\n",
      "/home/m3rg2000/miniconda3/envs/matsciml/lib/python3.9/site-packages/torch/jit/_check.py:177: UserWarning: The TorchScript type system doesn't support instance-level annotations on empty non-base types in `__init__`. Instead, either 1) use a type annotation in the class body, or 2) wrap the type in `torch.jit.Attribute`.\n",
      "  warnings.warn(\n",
      "/home/m3rg2000/miniconda3/envs/matsciml/lib/python3.9/site-packages/torch/jit/_check.py:177: UserWarning: The TorchScript type system doesn't support instance-level annotations on empty non-base types in `__init__`. Instead, either 1) use a type annotation in the class body, or 2) wrap the type in `torch.jit.Attribute`.\n",
      "  warnings.warn(\n",
      "/home/m3rg2000/miniconda3/envs/matsciml/lib/python3.9/site-packages/torch/jit/_check.py:177: UserWarning: The TorchScript type system doesn't support instance-level annotations on empty non-base types in `__init__`. Instead, either 1) use a type annotation in the class body, or 2) wrap the type in `torch.jit.Attribute`.\n",
      "  warnings.warn(\n",
      "/home/m3rg2000/miniconda3/envs/matsciml/lib/python3.9/site-packages/torch/jit/_check.py:177: UserWarning: The TorchScript type system doesn't support instance-level annotations on empty non-base types in `__init__`. Instead, either 1) use a type annotation in the class body, or 2) wrap the type in `torch.jit.Attribute`.\n",
      "  warnings.warn(\n",
      "/home/m3rg2000/miniconda3/envs/matsciml/lib/python3.9/site-packages/torch/jit/_check.py:177: UserWarning: The TorchScript type system doesn't support instance-level annotations on empty non-base types in `__init__`. Instead, either 1) use a type annotation in the class body, or 2) wrap the type in `torch.jit.Attribute`.\n",
      "  warnings.warn(\n",
      "/home/m3rg2000/miniconda3/envs/matsciml/lib/python3.9/site-packages/torch/jit/_check.py:177: UserWarning: The TorchScript type system doesn't support instance-level annotations on empty non-base types in `__init__`. Instead, either 1) use a type annotation in the class body, or 2) wrap the type in `torch.jit.Attribute`.\n",
      "  warnings.warn(\n",
      "/home/m3rg2000/miniconda3/envs/matsciml/lib/python3.9/site-packages/torch/jit/_check.py:177: UserWarning: The TorchScript type system doesn't support instance-level annotations on empty non-base types in `__init__`. Instead, either 1) use a type annotation in the class body, or 2) wrap the type in `torch.jit.Attribute`.\n",
      "  warnings.warn(\n",
      "/home/m3rg2000/miniconda3/envs/matsciml/lib/python3.9/site-packages/torch/jit/_check.py:177: UserWarning: The TorchScript type system doesn't support instance-level annotations on empty non-base types in `__init__`. Instead, either 1) use a type annotation in the class body, or 2) wrap the type in `torch.jit.Attribute`.\n",
      "  warnings.warn(\n",
      "/home/m3rg2000/miniconda3/envs/matsciml/lib/python3.9/site-packages/torch/jit/_check.py:177: UserWarning: The TorchScript type system doesn't support instance-level annotations on empty non-base types in `__init__`. Instead, either 1) use a type annotation in the class body, or 2) wrap the type in `torch.jit.Attribute`.\n",
      "  warnings.warn(\n",
      "/home/m3rg2000/miniconda3/envs/matsciml/lib/python3.9/site-packages/torch/jit/_check.py:177: UserWarning: The TorchScript type system doesn't support instance-level annotations on empty non-base types in `__init__`. Instead, either 1) use a type annotation in the class body, or 2) wrap the type in `torch.jit.Attribute`.\n",
      "  warnings.warn(\n",
      "/home/m3rg2000/miniconda3/envs/matsciml/lib/python3.9/site-packages/pytorch_lightning/utilities/parsing.py:199: Attribute 'gate' is an instance of `nn.Module` and is already saved during checkpointing. It is recommended to ignore them using `self.save_hyperparameters(ignore=['gate'])`.\n",
      "/home/m3rg2000/Simulation/Eval_NVT_Env/matsciml/matsciml/models/base.py:1979: UserWarning: GradFreeForceRegressionTask does not `task_keys`; ignoring passed keys: ['force']\n",
      "  warn(\n",
      "No ``atomic_energies`` provided, defaulting to ones.\n",
      "/home/m3rg2000/miniconda3/envs/matsciml/lib/python3.9/site-packages/torch/jit/_check.py:177: UserWarning: The TorchScript type system doesn't support instance-level annotations on empty non-base types in `__init__`. Instead, either 1) use a type annotation in the class body, or 2) wrap the type in `torch.jit.Attribute`.\n",
      "  warnings.warn(\n",
      "/home/m3rg2000/miniconda3/envs/matsciml/lib/python3.9/site-packages/torch/jit/_check.py:177: UserWarning: The TorchScript type system doesn't support instance-level annotations on empty non-base types in `__init__`. Instead, either 1) use a type annotation in the class body, or 2) wrap the type in `torch.jit.Attribute`.\n",
      "  warnings.warn(\n",
      "/home/m3rg2000/miniconda3/envs/matsciml/lib/python3.9/site-packages/torch/jit/_check.py:177: UserWarning: The TorchScript type system doesn't support instance-level annotations on empty non-base types in `__init__`. Instead, either 1) use a type annotation in the class body, or 2) wrap the type in `torch.jit.Attribute`.\n",
      "  warnings.warn(\n",
      "/home/m3rg2000/miniconda3/envs/matsciml/lib/python3.9/site-packages/torch/jit/_check.py:177: UserWarning: The TorchScript type system doesn't support instance-level annotations on empty non-base types in `__init__`. Instead, either 1) use a type annotation in the class body, or 2) wrap the type in `torch.jit.Attribute`.\n",
      "  warnings.warn(\n",
      "/home/m3rg2000/miniconda3/envs/matsciml/lib/python3.9/site-packages/torch/jit/_check.py:177: UserWarning: The TorchScript type system doesn't support instance-level annotations on empty non-base types in `__init__`. Instead, either 1) use a type annotation in the class body, or 2) wrap the type in `torch.jit.Attribute`.\n",
      "  warnings.warn(\n",
      "/home/m3rg2000/miniconda3/envs/matsciml/lib/python3.9/site-packages/torch/jit/_check.py:177: UserWarning: The TorchScript type system doesn't support instance-level annotations on empty non-base types in `__init__`. Instead, either 1) use a type annotation in the class body, or 2) wrap the type in `torch.jit.Attribute`.\n",
      "  warnings.warn(\n",
      "/home/m3rg2000/miniconda3/envs/matsciml/lib/python3.9/site-packages/torch/jit/_check.py:177: UserWarning: The TorchScript type system doesn't support instance-level annotations on empty non-base types in `__init__`. Instead, either 1) use a type annotation in the class body, or 2) wrap the type in `torch.jit.Attribute`.\n",
      "  warnings.warn(\n",
      "/home/m3rg2000/miniconda3/envs/matsciml/lib/python3.9/site-packages/torch/jit/_check.py:177: UserWarning: The TorchScript type system doesn't support instance-level annotations on empty non-base types in `__init__`. Instead, either 1) use a type annotation in the class body, or 2) wrap the type in `torch.jit.Attribute`.\n",
      "  warnings.warn(\n",
      "/home/m3rg2000/miniconda3/envs/matsciml/lib/python3.9/site-packages/torch/jit/_check.py:177: UserWarning: The TorchScript type system doesn't support instance-level annotations on empty non-base types in `__init__`. Instead, either 1) use a type annotation in the class body, or 2) wrap the type in `torch.jit.Attribute`.\n",
      "  warnings.warn(\n",
      "/home/m3rg2000/miniconda3/envs/matsciml/lib/python3.9/site-packages/torch/jit/_check.py:177: UserWarning: The TorchScript type system doesn't support instance-level annotations on empty non-base types in `__init__`. Instead, either 1) use a type annotation in the class body, or 2) wrap the type in `torch.jit.Attribute`.\n",
      "  warnings.warn(\n",
      "/home/m3rg2000/miniconda3/envs/matsciml/lib/python3.9/site-packages/torch/jit/_check.py:177: UserWarning: The TorchScript type system doesn't support instance-level annotations on empty non-base types in `__init__`. Instead, either 1) use a type annotation in the class body, or 2) wrap the type in `torch.jit.Attribute`.\n",
      "  warnings.warn(\n",
      "/home/m3rg2000/miniconda3/envs/matsciml/lib/python3.9/site-packages/torch/jit/_check.py:177: UserWarning: The TorchScript type system doesn't support instance-level annotations on empty non-base types in `__init__`. Instead, either 1) use a type annotation in the class body, or 2) wrap the type in `torch.jit.Attribute`.\n",
      "  warnings.warn(\n",
      "/home/m3rg2000/miniconda3/envs/matsciml/lib/python3.9/site-packages/torch/jit/_check.py:177: UserWarning: The TorchScript type system doesn't support instance-level annotations on empty non-base types in `__init__`. Instead, either 1) use a type annotation in the class body, or 2) wrap the type in `torch.jit.Attribute`.\n",
      "  warnings.warn(\n",
      "/home/m3rg2000/miniconda3/envs/matsciml/lib/python3.9/site-packages/torch/jit/_check.py:177: UserWarning: The TorchScript type system doesn't support instance-level annotations on empty non-base types in `__init__`. Instead, either 1) use a type annotation in the class body, or 2) wrap the type in `torch.jit.Attribute`.\n",
      "  warnings.warn(\n",
      "/home/m3rg2000/miniconda3/envs/matsciml/lib/python3.9/site-packages/pytorch_lightning/utilities/parsing.py:199: Attribute 'gate' is an instance of `nn.Module` and is already saved during checkpointing. It is recommended to ignore them using `self.save_hyperparameters(ignore=['gate'])`.\n"
     ]
    },
    {
     "data": {
      "text/plain": [
       "MultiTask Training module:\n",
       "MaterialsProjectDataset-regression0\n",
       "MaterialsProjectDataset-gff_regression0"
      ]
     },
     "execution_count": 2,
     "metadata": {},
     "output_type": "execute_result"
    }
   ],
   "source": [
    "from matsciml.models.utils.io import * \n",
    "checkpoint_path = \"/home/m3rg2000/Simulation/checkpoints-2024/mace_mat_traj_mar26_24.ckpt\"\n",
    "task = multitask_from_checkpoint(checkpoint_path)\n",
    "task.to('cuda')"
   ]
  },
  {
   "cell_type": "code",
   "execution_count": 3,
   "metadata": {},
   "outputs": [],
   "source": [
    "norm_factors={\n",
    "    \"energy_mean\": -214.69845189724998,\n",
    "    \"energy_std\": 218.69620660947086,\n",
    "    \"corrected_total_energy_mean\": -214.69845189724998,\n",
    "    \"corrected_total_energy_std\": 218.69620660947086\n",
    "}"
   ]
  },
  {
   "cell_type": "code",
   "execution_count": 4,
   "metadata": {},
   "outputs": [],
   "source": [
    "# Load Data\n",
    "dm = MatSciMLDataModule(\n",
    "    \"MaterialsProjectDataset\",\n",
    "    train_path=\"/home/m3rg2000/matsciml/Scale_new_lmdb/10k_new\",#TRAIN_PATH,\n",
    "    # val_split=VAL_PATH,\n",
    "    # test_split=VAL_PATH,\n",
    "    dset_kwargs={\n",
    "        \"transforms\": [\n",
    "            PeriodicPropertiesTransform(cutoff_radius=6.0, adaptive_cutoff=True),\n",
    "            PointCloudToGraphTransform(\n",
    "                \"pyg\",\n",
    "                node_keys=[\"pos\", \"atomic_numbers\"],\n",
    "            ),\n",
    "        ],\n",
    "    },\n",
    "    batch_size=1,\n",
    ")\n",
    "\n",
    "dm.setup()\n",
    "train_loader = dm.train_dataloader()\n",
    "dataset_iter = iter(train_loader)\n",
    "batch = next(dataset_iter)\n"
   ]
  },
  {
   "cell_type": "code",
   "execution_count": 5,
   "metadata": {},
   "outputs": [],
   "source": [
    "from torch_geometric.data import Data, Batch\n",
    "# def batch2cuda(batch):\n",
    "#     for key in batch.keys():\n",
    "#         if type(batch[key])==torch.Tensor:\n",
    "#             batch[key]=batch[key].to('cuda')\n",
    "#     batch['graph']=batch['graph'].to('cuda')\n",
    "def batch2cuda(batch):\n",
    "    # Recursively move all tensors in nested structures to 'cuda'\n",
    "    # batch['graph']=batch['graph'].to('cuda')\n",
    "    if isinstance(batch, dict):\n",
    "        return {k: batch2cuda(v) for k, v in batch.items()}\n",
    "    elif isinstance(batch, list):\n",
    "        return [batch2cuda(v) for v in batch]\n",
    "    elif isinstance(batch, torch.Tensor):\n",
    "        return batch.to('cuda')\n",
    "    elif isinstance(batch, Data) or isinstance(batch, Batch):\n",
    "        return batch.to('cuda')\n",
    "    else:\n",
    "        return batch\n",
    "    "
   ]
  },
  {
   "cell_type": "code",
   "execution_count": 6,
   "metadata": {},
   "outputs": [
    {
     "ename": "RuntimeError",
     "evalue": "The following operation failed in the TorchScript interpreter.\nTraceback of TorchScript (most recent call last):\n  File \"<eval_with_key>.21\", line 49, in forward\n    einsum_3 = torch.functional.einsum('edb,eca->ecdab', reshape_5, reshape_3)\n    reshape_12 = reshape_3.reshape(getitem_4, 64)\n    einsum_4 = torch.functional.einsum('ca,cab->cab', reshape_12, reshape_11);  reshape_12 = reshape_11 = None\n               ~~~~~~~~~~~~~~~~~~~~~~~ <--- HERE\n    einsum_5 = torch.functional.einsum('dbc,dca->dba', einsum_4, reshape_5);  einsum_4 = reshape_5 = None\n    reshape_13 = einsum_5.reshape(getitem_4, 192);  einsum_5 = None\nRuntimeError: CUDA out of memory. Tried to allocate 20.00 MiB. GPU 0 has a total capacity of 11.75 GiB of which 15.12 MiB is free. Process 392269 has 174.00 MiB memory in use. Process 2007541 has 10.59 GiB memory in use. Process 1709378 has 150.00 MiB memory in use. Process 3487595 has 554.00 MiB memory in use. Including non-PyTorch memory, this process has 222.00 MiB memory in use. Of the allocated memory 82.87 MiB is allocated by PyTorch, and 17.13 MiB is reserved by PyTorch but unallocated. If reserved but unallocated memory is large try setting PYTORCH_CUDA_ALLOC_CONF=expandable_segments:True to avoid fragmentation.  See documentation for Memory Management  (https://pytorch.org/docs/stable/notes/cuda.html#environment-variables)\n",
     "output_type": "error",
     "traceback": [
      "\u001b[0;31m---------------------------------------------------------------------------\u001b[0m",
      "\u001b[0;31mRuntimeError\u001b[0m                              Traceback (most recent call last)",
      "Cell \u001b[0;32mIn[6], line 6\u001b[0m\n\u001b[1;32m      4\u001b[0m \u001b[38;5;28;01mfor\u001b[39;00m batch \u001b[38;5;129;01min\u001b[39;00m train_loader:\n\u001b[1;32m      5\u001b[0m     batch2cuda(batch)\n\u001b[0;32m----> 6\u001b[0m     Result\u001b[38;5;241m=\u001b[39m\u001b[43mtask\u001b[49m\u001b[38;5;241;43m.\u001b[39;49m\u001b[43mforward\u001b[49m\u001b[43m(\u001b[49m\u001b[43mbatch\u001b[49m\u001b[43m)\u001b[49m\n\u001b[1;32m      8\u001b[0m     Pred_Energy\u001b[38;5;241m=\u001b[39mResult[\u001b[38;5;124m'\u001b[39m\u001b[38;5;124mregression0\u001b[39m\u001b[38;5;124m'\u001b[39m][\u001b[38;5;124m'\u001b[39m\u001b[38;5;124mcorrected_total_energy\u001b[39m\u001b[38;5;124m'\u001b[39m]\u001b[38;5;241m.\u001b[39mitem()\u001b[38;5;241m*\u001b[39mnorm_factors[\u001b[38;5;124m'\u001b[39m\u001b[38;5;124menergy_std\u001b[39m\u001b[38;5;124m'\u001b[39m]\u001b[38;5;241m+\u001b[39mnorm_factors[\u001b[38;5;124m'\u001b[39m\u001b[38;5;124menergy_mean\u001b[39m\u001b[38;5;124m'\u001b[39m]\n\u001b[1;32m      9\u001b[0m     Pred_Forces\u001b[38;5;241m=\u001b[39mResult[\u001b[38;5;124m'\u001b[39m\u001b[38;5;124mgff_regression0\u001b[39m\u001b[38;5;124m'\u001b[39m][\u001b[38;5;124m'\u001b[39m\u001b[38;5;124mforce\u001b[39m\u001b[38;5;124m'\u001b[39m]\n",
      "File \u001b[0;32m~/Simulation/Eval_NVT_Env/matsciml/matsciml/models/base.py:2596\u001b[0m, in \u001b[0;36mMultiTaskLitModule.forward\u001b[0;34m(self, batch)\u001b[0m\n\u001b[1;32m   2594\u001b[0m         data[\u001b[38;5;124m\"\u001b[39m\u001b[38;5;124membeddings\u001b[39m\u001b[38;5;124m\"\u001b[39m] \u001b[38;5;241m=\u001b[39m \u001b[38;5;28mself\u001b[39m\u001b[38;5;241m.\u001b[39mencoder(data)\n\u001b[1;32m   2595\u001b[0m \u001b[38;5;28;01melse\u001b[39;00m:\n\u001b[0;32m-> 2596\u001b[0m     batch[\u001b[38;5;124m\"\u001b[39m\u001b[38;5;124membeddings\u001b[39m\u001b[38;5;124m\"\u001b[39m] \u001b[38;5;241m=\u001b[39m \u001b[38;5;28;43mself\u001b[39;49m\u001b[38;5;241;43m.\u001b[39;49m\u001b[43mencoder\u001b[49m\u001b[43m(\u001b[49m\u001b[43mbatch\u001b[49m\u001b[43m)\u001b[49m\n\u001b[1;32m   2597\u001b[0m \u001b[38;5;66;03m# for single dataset usage, we assume the nested structure isn't used\u001b[39;00m\n\u001b[1;32m   2598\u001b[0m \u001b[38;5;28;01mif\u001b[39;00m \u001b[38;5;28mself\u001b[39m\u001b[38;5;241m.\u001b[39mis_multidata:\n",
      "File \u001b[0;32m~/miniconda3/envs/matsciml/lib/python3.9/site-packages/torch/nn/modules/module.py:1511\u001b[0m, in \u001b[0;36mModule._wrapped_call_impl\u001b[0;34m(self, *args, **kwargs)\u001b[0m\n\u001b[1;32m   1509\u001b[0m     \u001b[38;5;28;01mreturn\u001b[39;00m \u001b[38;5;28mself\u001b[39m\u001b[38;5;241m.\u001b[39m_compiled_call_impl(\u001b[38;5;241m*\u001b[39margs, \u001b[38;5;241m*\u001b[39m\u001b[38;5;241m*\u001b[39mkwargs)  \u001b[38;5;66;03m# type: ignore[misc]\u001b[39;00m\n\u001b[1;32m   1510\u001b[0m \u001b[38;5;28;01melse\u001b[39;00m:\n\u001b[0;32m-> 1511\u001b[0m     \u001b[38;5;28;01mreturn\u001b[39;00m \u001b[38;5;28;43mself\u001b[39;49m\u001b[38;5;241;43m.\u001b[39;49m\u001b[43m_call_impl\u001b[49m\u001b[43m(\u001b[49m\u001b[38;5;241;43m*\u001b[39;49m\u001b[43margs\u001b[49m\u001b[43m,\u001b[49m\u001b[43m \u001b[49m\u001b[38;5;241;43m*\u001b[39;49m\u001b[38;5;241;43m*\u001b[39;49m\u001b[43mkwargs\u001b[49m\u001b[43m)\u001b[49m\n",
      "File \u001b[0;32m~/miniconda3/envs/matsciml/lib/python3.9/site-packages/torch/nn/modules/module.py:1520\u001b[0m, in \u001b[0;36mModule._call_impl\u001b[0;34m(self, *args, **kwargs)\u001b[0m\n\u001b[1;32m   1515\u001b[0m \u001b[38;5;66;03m# If we don't have any hooks, we want to skip the rest of the logic in\u001b[39;00m\n\u001b[1;32m   1516\u001b[0m \u001b[38;5;66;03m# this function, and just call forward.\u001b[39;00m\n\u001b[1;32m   1517\u001b[0m \u001b[38;5;28;01mif\u001b[39;00m \u001b[38;5;129;01mnot\u001b[39;00m (\u001b[38;5;28mself\u001b[39m\u001b[38;5;241m.\u001b[39m_backward_hooks \u001b[38;5;129;01mor\u001b[39;00m \u001b[38;5;28mself\u001b[39m\u001b[38;5;241m.\u001b[39m_backward_pre_hooks \u001b[38;5;129;01mor\u001b[39;00m \u001b[38;5;28mself\u001b[39m\u001b[38;5;241m.\u001b[39m_forward_hooks \u001b[38;5;129;01mor\u001b[39;00m \u001b[38;5;28mself\u001b[39m\u001b[38;5;241m.\u001b[39m_forward_pre_hooks\n\u001b[1;32m   1518\u001b[0m         \u001b[38;5;129;01mor\u001b[39;00m _global_backward_pre_hooks \u001b[38;5;129;01mor\u001b[39;00m _global_backward_hooks\n\u001b[1;32m   1519\u001b[0m         \u001b[38;5;129;01mor\u001b[39;00m _global_forward_hooks \u001b[38;5;129;01mor\u001b[39;00m _global_forward_pre_hooks):\n\u001b[0;32m-> 1520\u001b[0m     \u001b[38;5;28;01mreturn\u001b[39;00m \u001b[43mforward_call\u001b[49m\u001b[43m(\u001b[49m\u001b[38;5;241;43m*\u001b[39;49m\u001b[43margs\u001b[49m\u001b[43m,\u001b[49m\u001b[43m \u001b[49m\u001b[38;5;241;43m*\u001b[39;49m\u001b[38;5;241;43m*\u001b[39;49m\u001b[43mkwargs\u001b[49m\u001b[43m)\u001b[49m\n\u001b[1;32m   1522\u001b[0m \u001b[38;5;28;01mtry\u001b[39;00m:\n\u001b[1;32m   1523\u001b[0m     result \u001b[38;5;241m=\u001b[39m \u001b[38;5;28;01mNone\u001b[39;00m\n",
      "File \u001b[0;32m~/Simulation/Eval_NVT_Env/matsciml/matsciml/models/base.py:285\u001b[0m, in \u001b[0;36mAbstractTask.forward\u001b[0;34m(self, batch)\u001b[0m\n\u001b[1;32m    267\u001b[0m \u001b[38;5;250m\u001b[39m\u001b[38;5;124;03m\"\"\"\u001b[39;00m\n\u001b[1;32m    268\u001b[0m \u001b[38;5;124;03mGiven a batch structure, extract out data and pass it into the\u001b[39;00m\n\u001b[1;32m    269\u001b[0m \u001b[38;5;124;03mneural network architecture. This implements the 'forward' method\u001b[39;00m\n\u001b[0;32m   (...)\u001b[0m\n\u001b[1;32m    282\u001b[0m \u001b[38;5;124;03m    Data structure containing system/graph and point/node level embeddings.\u001b[39;00m\n\u001b[1;32m    283\u001b[0m \u001b[38;5;124;03m\"\"\"\u001b[39;00m\n\u001b[1;32m    284\u001b[0m input_data \u001b[38;5;241m=\u001b[39m \u001b[38;5;28mself\u001b[39m\u001b[38;5;241m.\u001b[39mread_batch(batch)\n\u001b[0;32m--> 285\u001b[0m outputs \u001b[38;5;241m=\u001b[39m \u001b[38;5;28;43mself\u001b[39;49m\u001b[38;5;241;43m.\u001b[39;49m\u001b[43m_forward\u001b[49m\u001b[43m(\u001b[49m\u001b[38;5;241;43m*\u001b[39;49m\u001b[38;5;241;43m*\u001b[39;49m\u001b[43minput_data\u001b[49m\u001b[43m)\u001b[49m\n\u001b[1;32m    286\u001b[0m \u001b[38;5;66;03m# raise an error to help spot models that have not yet been refactored\u001b[39;00m\n\u001b[1;32m    287\u001b[0m \u001b[38;5;28;01mif\u001b[39;00m \u001b[38;5;129;01mnot\u001b[39;00m \u001b[38;5;28misinstance\u001b[39m(outputs, Embeddings):\n",
      "File \u001b[0;32m~/Simulation/Eval_NVT_Env/matsciml/matsciml/models/pyg/mace/wrapper/model.py:171\u001b[0m, in \u001b[0;36mMACEWrapper._forward\u001b[0;34m(self, graph, node_feats, pos, **kwargs)\u001b[0m\n\u001b[1;32m    161\u001b[0m \u001b[38;5;66;03m# repack data into MACE format\u001b[39;00m\n\u001b[1;32m    162\u001b[0m mace_data \u001b[38;5;241m=\u001b[39m {\n\u001b[1;32m    163\u001b[0m     \u001b[38;5;124m\"\u001b[39m\u001b[38;5;124mpositions\u001b[39m\u001b[38;5;124m\"\u001b[39m: pos,\n\u001b[1;32m    164\u001b[0m     \u001b[38;5;124m\"\u001b[39m\u001b[38;5;124mnode_attrs\u001b[39m\u001b[38;5;124m\"\u001b[39m: node_feats,\n\u001b[0;32m   (...)\u001b[0m\n\u001b[1;32m    169\u001b[0m     \u001b[38;5;124m\"\u001b[39m\u001b[38;5;124medge_index\u001b[39m\u001b[38;5;124m\"\u001b[39m: graph\u001b[38;5;241m.\u001b[39medge_index,\n\u001b[1;32m    170\u001b[0m }\n\u001b[0;32m--> 171\u001b[0m outputs \u001b[38;5;241m=\u001b[39m \u001b[38;5;28;43mself\u001b[39;49m\u001b[38;5;241;43m.\u001b[39;49m\u001b[43mencoder\u001b[49m\u001b[43m(\u001b[49m\n\u001b[1;32m    172\u001b[0m \u001b[43m    \u001b[49m\u001b[43mmace_data\u001b[49m\u001b[43m,\u001b[49m\n\u001b[1;32m    173\u001b[0m \u001b[43m    \u001b[49m\u001b[43mtraining\u001b[49m\u001b[38;5;241;43m=\u001b[39;49m\u001b[38;5;28;43mself\u001b[39;49m\u001b[38;5;241;43m.\u001b[39;49m\u001b[43mtraining\u001b[49m\u001b[43m,\u001b[49m\n\u001b[1;32m    174\u001b[0m \u001b[43m    \u001b[49m\u001b[43mcompute_force\u001b[49m\u001b[38;5;241;43m=\u001b[39;49m\u001b[38;5;28;43;01mFalse\u001b[39;49;00m\u001b[43m,\u001b[49m\n\u001b[1;32m    175\u001b[0m \u001b[43m    \u001b[49m\u001b[43mcompute_virials\u001b[49m\u001b[38;5;241;43m=\u001b[39;49m\u001b[38;5;28;43;01mFalse\u001b[39;49;00m\u001b[43m,\u001b[49m\n\u001b[1;32m    176\u001b[0m \u001b[43m    \u001b[49m\u001b[43mcompute_stress\u001b[49m\u001b[38;5;241;43m=\u001b[39;49m\u001b[38;5;28;43;01mFalse\u001b[39;49;00m\u001b[43m,\u001b[49m\n\u001b[1;32m    177\u001b[0m \u001b[43m    \u001b[49m\u001b[43mcompute_displacement\u001b[49m\u001b[38;5;241;43m=\u001b[39;49m\u001b[38;5;28;43;01mFalse\u001b[39;49;00m\u001b[43m,\u001b[49m\n\u001b[1;32m    178\u001b[0m \u001b[43m\u001b[49m\u001b[43m)\u001b[49m\n\u001b[1;32m    179\u001b[0m node_embeddings \u001b[38;5;241m=\u001b[39m outputs[\u001b[38;5;124m\"\u001b[39m\u001b[38;5;124mnode_feats\u001b[39m\u001b[38;5;124m\"\u001b[39m]\n\u001b[1;32m    180\u001b[0m graph_embeddings \u001b[38;5;241m=\u001b[39m \u001b[38;5;28mself\u001b[39m\u001b[38;5;241m.\u001b[39mreadout(node_embeddings, graph\u001b[38;5;241m.\u001b[39mbatch)\n",
      "File \u001b[0;32m~/miniconda3/envs/matsciml/lib/python3.9/site-packages/torch/nn/modules/module.py:1511\u001b[0m, in \u001b[0;36mModule._wrapped_call_impl\u001b[0;34m(self, *args, **kwargs)\u001b[0m\n\u001b[1;32m   1509\u001b[0m     \u001b[38;5;28;01mreturn\u001b[39;00m \u001b[38;5;28mself\u001b[39m\u001b[38;5;241m.\u001b[39m_compiled_call_impl(\u001b[38;5;241m*\u001b[39margs, \u001b[38;5;241m*\u001b[39m\u001b[38;5;241m*\u001b[39mkwargs)  \u001b[38;5;66;03m# type: ignore[misc]\u001b[39;00m\n\u001b[1;32m   1510\u001b[0m \u001b[38;5;28;01melse\u001b[39;00m:\n\u001b[0;32m-> 1511\u001b[0m     \u001b[38;5;28;01mreturn\u001b[39;00m \u001b[38;5;28;43mself\u001b[39;49m\u001b[38;5;241;43m.\u001b[39;49m\u001b[43m_call_impl\u001b[49m\u001b[43m(\u001b[49m\u001b[38;5;241;43m*\u001b[39;49m\u001b[43margs\u001b[49m\u001b[43m,\u001b[49m\u001b[43m \u001b[49m\u001b[38;5;241;43m*\u001b[39;49m\u001b[38;5;241;43m*\u001b[39;49m\u001b[43mkwargs\u001b[49m\u001b[43m)\u001b[49m\n",
      "File \u001b[0;32m~/miniconda3/envs/matsciml/lib/python3.9/site-packages/torch/nn/modules/module.py:1520\u001b[0m, in \u001b[0;36mModule._call_impl\u001b[0;34m(self, *args, **kwargs)\u001b[0m\n\u001b[1;32m   1515\u001b[0m \u001b[38;5;66;03m# If we don't have any hooks, we want to skip the rest of the logic in\u001b[39;00m\n\u001b[1;32m   1516\u001b[0m \u001b[38;5;66;03m# this function, and just call forward.\u001b[39;00m\n\u001b[1;32m   1517\u001b[0m \u001b[38;5;28;01mif\u001b[39;00m \u001b[38;5;129;01mnot\u001b[39;00m (\u001b[38;5;28mself\u001b[39m\u001b[38;5;241m.\u001b[39m_backward_hooks \u001b[38;5;129;01mor\u001b[39;00m \u001b[38;5;28mself\u001b[39m\u001b[38;5;241m.\u001b[39m_backward_pre_hooks \u001b[38;5;129;01mor\u001b[39;00m \u001b[38;5;28mself\u001b[39m\u001b[38;5;241m.\u001b[39m_forward_hooks \u001b[38;5;129;01mor\u001b[39;00m \u001b[38;5;28mself\u001b[39m\u001b[38;5;241m.\u001b[39m_forward_pre_hooks\n\u001b[1;32m   1518\u001b[0m         \u001b[38;5;129;01mor\u001b[39;00m _global_backward_pre_hooks \u001b[38;5;129;01mor\u001b[39;00m _global_backward_hooks\n\u001b[1;32m   1519\u001b[0m         \u001b[38;5;129;01mor\u001b[39;00m _global_forward_hooks \u001b[38;5;129;01mor\u001b[39;00m _global_forward_pre_hooks):\n\u001b[0;32m-> 1520\u001b[0m     \u001b[38;5;28;01mreturn\u001b[39;00m \u001b[43mforward_call\u001b[49m\u001b[43m(\u001b[49m\u001b[38;5;241;43m*\u001b[39;49m\u001b[43margs\u001b[49m\u001b[43m,\u001b[49m\u001b[43m \u001b[49m\u001b[38;5;241;43m*\u001b[39;49m\u001b[38;5;241;43m*\u001b[39;49m\u001b[43mkwargs\u001b[49m\u001b[43m)\u001b[49m\n\u001b[1;32m   1522\u001b[0m \u001b[38;5;28;01mtry\u001b[39;00m:\n\u001b[1;32m   1523\u001b[0m     result \u001b[38;5;241m=\u001b[39m \u001b[38;5;28;01mNone\u001b[39;00m\n",
      "File \u001b[0;32m~/miniconda3/envs/matsciml/lib/python3.9/site-packages/mace/modules/models.py:217\u001b[0m, in \u001b[0;36mMACE.forward\u001b[0;34m(self, data, training, compute_force, compute_virials, compute_stress, compute_displacement)\u001b[0m\n\u001b[1;32m    213\u001b[0m node_feats_list \u001b[38;5;241m=\u001b[39m []\n\u001b[1;32m    214\u001b[0m \u001b[38;5;28;01mfor\u001b[39;00m interaction, product, readout \u001b[38;5;129;01min\u001b[39;00m \u001b[38;5;28mzip\u001b[39m(\n\u001b[1;32m    215\u001b[0m     \u001b[38;5;28mself\u001b[39m\u001b[38;5;241m.\u001b[39minteractions, \u001b[38;5;28mself\u001b[39m\u001b[38;5;241m.\u001b[39mproducts, \u001b[38;5;28mself\u001b[39m\u001b[38;5;241m.\u001b[39mreadouts\n\u001b[1;32m    216\u001b[0m ):\n\u001b[0;32m--> 217\u001b[0m     node_feats, sc \u001b[38;5;241m=\u001b[39m \u001b[43minteraction\u001b[49m\u001b[43m(\u001b[49m\n\u001b[1;32m    218\u001b[0m \u001b[43m        \u001b[49m\u001b[43mnode_attrs\u001b[49m\u001b[38;5;241;43m=\u001b[39;49m\u001b[43mdata\u001b[49m\u001b[43m[\u001b[49m\u001b[38;5;124;43m\"\u001b[39;49m\u001b[38;5;124;43mnode_attrs\u001b[39;49m\u001b[38;5;124;43m\"\u001b[39;49m\u001b[43m]\u001b[49m\u001b[43m,\u001b[49m\n\u001b[1;32m    219\u001b[0m \u001b[43m        \u001b[49m\u001b[43mnode_feats\u001b[49m\u001b[38;5;241;43m=\u001b[39;49m\u001b[43mnode_feats\u001b[49m\u001b[43m,\u001b[49m\n\u001b[1;32m    220\u001b[0m \u001b[43m        \u001b[49m\u001b[43medge_attrs\u001b[49m\u001b[38;5;241;43m=\u001b[39;49m\u001b[43medge_attrs\u001b[49m\u001b[43m,\u001b[49m\n\u001b[1;32m    221\u001b[0m \u001b[43m        \u001b[49m\u001b[43medge_feats\u001b[49m\u001b[38;5;241;43m=\u001b[39;49m\u001b[43medge_feats\u001b[49m\u001b[43m,\u001b[49m\n\u001b[1;32m    222\u001b[0m \u001b[43m        \u001b[49m\u001b[43medge_index\u001b[49m\u001b[38;5;241;43m=\u001b[39;49m\u001b[43mdata\u001b[49m\u001b[43m[\u001b[49m\u001b[38;5;124;43m\"\u001b[39;49m\u001b[38;5;124;43medge_index\u001b[39;49m\u001b[38;5;124;43m\"\u001b[39;49m\u001b[43m]\u001b[49m\u001b[43m,\u001b[49m\n\u001b[1;32m    223\u001b[0m \u001b[43m    \u001b[49m\u001b[43m)\u001b[49m\n\u001b[1;32m    224\u001b[0m     node_feats \u001b[38;5;241m=\u001b[39m product(\n\u001b[1;32m    225\u001b[0m         node_feats\u001b[38;5;241m=\u001b[39mnode_feats,\n\u001b[1;32m    226\u001b[0m         sc\u001b[38;5;241m=\u001b[39msc,\n\u001b[1;32m    227\u001b[0m         node_attrs\u001b[38;5;241m=\u001b[39mdata[\u001b[38;5;124m\"\u001b[39m\u001b[38;5;124mnode_attrs\u001b[39m\u001b[38;5;124m\"\u001b[39m],\n\u001b[1;32m    228\u001b[0m     )\n\u001b[1;32m    229\u001b[0m     node_feats_list\u001b[38;5;241m.\u001b[39mappend(node_feats)\n",
      "File \u001b[0;32m~/miniconda3/envs/matsciml/lib/python3.9/site-packages/torch/nn/modules/module.py:1511\u001b[0m, in \u001b[0;36mModule._wrapped_call_impl\u001b[0;34m(self, *args, **kwargs)\u001b[0m\n\u001b[1;32m   1509\u001b[0m     \u001b[38;5;28;01mreturn\u001b[39;00m \u001b[38;5;28mself\u001b[39m\u001b[38;5;241m.\u001b[39m_compiled_call_impl(\u001b[38;5;241m*\u001b[39margs, \u001b[38;5;241m*\u001b[39m\u001b[38;5;241m*\u001b[39mkwargs)  \u001b[38;5;66;03m# type: ignore[misc]\u001b[39;00m\n\u001b[1;32m   1510\u001b[0m \u001b[38;5;28;01melse\u001b[39;00m:\n\u001b[0;32m-> 1511\u001b[0m     \u001b[38;5;28;01mreturn\u001b[39;00m \u001b[38;5;28;43mself\u001b[39;49m\u001b[38;5;241;43m.\u001b[39;49m\u001b[43m_call_impl\u001b[49m\u001b[43m(\u001b[49m\u001b[38;5;241;43m*\u001b[39;49m\u001b[43margs\u001b[49m\u001b[43m,\u001b[49m\u001b[43m \u001b[49m\u001b[38;5;241;43m*\u001b[39;49m\u001b[38;5;241;43m*\u001b[39;49m\u001b[43mkwargs\u001b[49m\u001b[43m)\u001b[49m\n",
      "File \u001b[0;32m~/miniconda3/envs/matsciml/lib/python3.9/site-packages/torch/nn/modules/module.py:1520\u001b[0m, in \u001b[0;36mModule._call_impl\u001b[0;34m(self, *args, **kwargs)\u001b[0m\n\u001b[1;32m   1515\u001b[0m \u001b[38;5;66;03m# If we don't have any hooks, we want to skip the rest of the logic in\u001b[39;00m\n\u001b[1;32m   1516\u001b[0m \u001b[38;5;66;03m# this function, and just call forward.\u001b[39;00m\n\u001b[1;32m   1517\u001b[0m \u001b[38;5;28;01mif\u001b[39;00m \u001b[38;5;129;01mnot\u001b[39;00m (\u001b[38;5;28mself\u001b[39m\u001b[38;5;241m.\u001b[39m_backward_hooks \u001b[38;5;129;01mor\u001b[39;00m \u001b[38;5;28mself\u001b[39m\u001b[38;5;241m.\u001b[39m_backward_pre_hooks \u001b[38;5;129;01mor\u001b[39;00m \u001b[38;5;28mself\u001b[39m\u001b[38;5;241m.\u001b[39m_forward_hooks \u001b[38;5;129;01mor\u001b[39;00m \u001b[38;5;28mself\u001b[39m\u001b[38;5;241m.\u001b[39m_forward_pre_hooks\n\u001b[1;32m   1518\u001b[0m         \u001b[38;5;129;01mor\u001b[39;00m _global_backward_pre_hooks \u001b[38;5;129;01mor\u001b[39;00m _global_backward_hooks\n\u001b[1;32m   1519\u001b[0m         \u001b[38;5;129;01mor\u001b[39;00m _global_forward_hooks \u001b[38;5;129;01mor\u001b[39;00m _global_forward_pre_hooks):\n\u001b[0;32m-> 1520\u001b[0m     \u001b[38;5;28;01mreturn\u001b[39;00m \u001b[43mforward_call\u001b[49m\u001b[43m(\u001b[49m\u001b[38;5;241;43m*\u001b[39;49m\u001b[43margs\u001b[49m\u001b[43m,\u001b[49m\u001b[43m \u001b[49m\u001b[38;5;241;43m*\u001b[39;49m\u001b[38;5;241;43m*\u001b[39;49m\u001b[43mkwargs\u001b[49m\u001b[43m)\u001b[49m\n\u001b[1;32m   1522\u001b[0m \u001b[38;5;28;01mtry\u001b[39;00m:\n\u001b[1;32m   1523\u001b[0m     result \u001b[38;5;241m=\u001b[39m \u001b[38;5;28;01mNone\u001b[39;00m\n",
      "File \u001b[0;32m~/miniconda3/envs/matsciml/lib/python3.9/site-packages/mace/modules/blocks.py:540\u001b[0m, in \u001b[0;36mRealAgnosticInteractionBlock.forward\u001b[0;34m(self, node_attrs, node_feats, edge_attrs, edge_feats, edge_index)\u001b[0m\n\u001b[1;32m    538\u001b[0m node_feats \u001b[38;5;241m=\u001b[39m \u001b[38;5;28mself\u001b[39m\u001b[38;5;241m.\u001b[39mlinear_up(node_feats)\n\u001b[1;32m    539\u001b[0m tp_weights \u001b[38;5;241m=\u001b[39m \u001b[38;5;28mself\u001b[39m\u001b[38;5;241m.\u001b[39mconv_tp_weights(edge_feats)\n\u001b[0;32m--> 540\u001b[0m mji \u001b[38;5;241m=\u001b[39m \u001b[38;5;28;43mself\u001b[39;49m\u001b[38;5;241;43m.\u001b[39;49m\u001b[43mconv_tp\u001b[49m\u001b[43m(\u001b[49m\n\u001b[1;32m    541\u001b[0m \u001b[43m    \u001b[49m\u001b[43mnode_feats\u001b[49m\u001b[43m[\u001b[49m\u001b[43msender\u001b[49m\u001b[43m]\u001b[49m\u001b[43m,\u001b[49m\u001b[43m \u001b[49m\u001b[43medge_attrs\u001b[49m\u001b[43m,\u001b[49m\u001b[43m \u001b[49m\u001b[43mtp_weights\u001b[49m\n\u001b[1;32m    542\u001b[0m \u001b[43m\u001b[49m\u001b[43m)\u001b[49m  \u001b[38;5;66;03m# [n_edges, irreps]\u001b[39;00m\n\u001b[1;32m    543\u001b[0m message \u001b[38;5;241m=\u001b[39m scatter_sum(\n\u001b[1;32m    544\u001b[0m     src\u001b[38;5;241m=\u001b[39mmji, index\u001b[38;5;241m=\u001b[39mreceiver, dim\u001b[38;5;241m=\u001b[39m\u001b[38;5;241m0\u001b[39m, dim_size\u001b[38;5;241m=\u001b[39mnum_nodes\n\u001b[1;32m    545\u001b[0m )  \u001b[38;5;66;03m# [n_nodes, irreps]\u001b[39;00m\n\u001b[1;32m    546\u001b[0m message \u001b[38;5;241m=\u001b[39m \u001b[38;5;28mself\u001b[39m\u001b[38;5;241m.\u001b[39mlinear(message) \u001b[38;5;241m/\u001b[39m \u001b[38;5;28mself\u001b[39m\u001b[38;5;241m.\u001b[39mavg_num_neighbors\n",
      "File \u001b[0;32m~/miniconda3/envs/matsciml/lib/python3.9/site-packages/torch/nn/modules/module.py:1511\u001b[0m, in \u001b[0;36mModule._wrapped_call_impl\u001b[0;34m(self, *args, **kwargs)\u001b[0m\n\u001b[1;32m   1509\u001b[0m     \u001b[38;5;28;01mreturn\u001b[39;00m \u001b[38;5;28mself\u001b[39m\u001b[38;5;241m.\u001b[39m_compiled_call_impl(\u001b[38;5;241m*\u001b[39margs, \u001b[38;5;241m*\u001b[39m\u001b[38;5;241m*\u001b[39mkwargs)  \u001b[38;5;66;03m# type: ignore[misc]\u001b[39;00m\n\u001b[1;32m   1510\u001b[0m \u001b[38;5;28;01melse\u001b[39;00m:\n\u001b[0;32m-> 1511\u001b[0m     \u001b[38;5;28;01mreturn\u001b[39;00m \u001b[38;5;28;43mself\u001b[39;49m\u001b[38;5;241;43m.\u001b[39;49m\u001b[43m_call_impl\u001b[49m\u001b[43m(\u001b[49m\u001b[38;5;241;43m*\u001b[39;49m\u001b[43margs\u001b[49m\u001b[43m,\u001b[49m\u001b[43m \u001b[49m\u001b[38;5;241;43m*\u001b[39;49m\u001b[38;5;241;43m*\u001b[39;49m\u001b[43mkwargs\u001b[49m\u001b[43m)\u001b[49m\n",
      "File \u001b[0;32m~/miniconda3/envs/matsciml/lib/python3.9/site-packages/torch/nn/modules/module.py:1520\u001b[0m, in \u001b[0;36mModule._call_impl\u001b[0;34m(self, *args, **kwargs)\u001b[0m\n\u001b[1;32m   1515\u001b[0m \u001b[38;5;66;03m# If we don't have any hooks, we want to skip the rest of the logic in\u001b[39;00m\n\u001b[1;32m   1516\u001b[0m \u001b[38;5;66;03m# this function, and just call forward.\u001b[39;00m\n\u001b[1;32m   1517\u001b[0m \u001b[38;5;28;01mif\u001b[39;00m \u001b[38;5;129;01mnot\u001b[39;00m (\u001b[38;5;28mself\u001b[39m\u001b[38;5;241m.\u001b[39m_backward_hooks \u001b[38;5;129;01mor\u001b[39;00m \u001b[38;5;28mself\u001b[39m\u001b[38;5;241m.\u001b[39m_backward_pre_hooks \u001b[38;5;129;01mor\u001b[39;00m \u001b[38;5;28mself\u001b[39m\u001b[38;5;241m.\u001b[39m_forward_hooks \u001b[38;5;129;01mor\u001b[39;00m \u001b[38;5;28mself\u001b[39m\u001b[38;5;241m.\u001b[39m_forward_pre_hooks\n\u001b[1;32m   1518\u001b[0m         \u001b[38;5;129;01mor\u001b[39;00m _global_backward_pre_hooks \u001b[38;5;129;01mor\u001b[39;00m _global_backward_hooks\n\u001b[1;32m   1519\u001b[0m         \u001b[38;5;129;01mor\u001b[39;00m _global_forward_hooks \u001b[38;5;129;01mor\u001b[39;00m _global_forward_pre_hooks):\n\u001b[0;32m-> 1520\u001b[0m     \u001b[38;5;28;01mreturn\u001b[39;00m \u001b[43mforward_call\u001b[49m\u001b[43m(\u001b[49m\u001b[38;5;241;43m*\u001b[39;49m\u001b[43margs\u001b[49m\u001b[43m,\u001b[49m\u001b[43m \u001b[49m\u001b[38;5;241;43m*\u001b[39;49m\u001b[38;5;241;43m*\u001b[39;49m\u001b[43mkwargs\u001b[49m\u001b[43m)\u001b[49m\n\u001b[1;32m   1522\u001b[0m \u001b[38;5;28;01mtry\u001b[39;00m:\n\u001b[1;32m   1523\u001b[0m     result \u001b[38;5;241m=\u001b[39m \u001b[38;5;28;01mNone\u001b[39;00m\n",
      "File \u001b[0;32m~/miniconda3/envs/matsciml/lib/python3.9/site-packages/e3nn/o3/_tensor_product/_tensor_product.py:529\u001b[0m, in \u001b[0;36mTensorProduct.forward\u001b[0;34m(self, x, y, weight)\u001b[0m\n\u001b[1;32m    527\u001b[0m \u001b[38;5;66;03m# - PROFILER - with torch.autograd.profiler.record_function(self._profiling_str):\u001b[39;00m\n\u001b[1;32m    528\u001b[0m real_weight \u001b[38;5;241m=\u001b[39m \u001b[38;5;28mself\u001b[39m\u001b[38;5;241m.\u001b[39m_get_weights(weight)\n\u001b[0;32m--> 529\u001b[0m \u001b[38;5;28;01mreturn\u001b[39;00m \u001b[38;5;28;43mself\u001b[39;49m\u001b[38;5;241;43m.\u001b[39;49m\u001b[43m_compiled_main_left_right\u001b[49m\u001b[43m(\u001b[49m\u001b[43mx\u001b[49m\u001b[43m,\u001b[49m\u001b[43m \u001b[49m\u001b[43my\u001b[49m\u001b[43m,\u001b[49m\u001b[43m \u001b[49m\u001b[43mreal_weight\u001b[49m\u001b[43m)\u001b[49m\n",
      "File \u001b[0;32m~/miniconda3/envs/matsciml/lib/python3.9/site-packages/torch/nn/modules/module.py:1511\u001b[0m, in \u001b[0;36mModule._wrapped_call_impl\u001b[0;34m(self, *args, **kwargs)\u001b[0m\n\u001b[1;32m   1509\u001b[0m     \u001b[38;5;28;01mreturn\u001b[39;00m \u001b[38;5;28mself\u001b[39m\u001b[38;5;241m.\u001b[39m_compiled_call_impl(\u001b[38;5;241m*\u001b[39margs, \u001b[38;5;241m*\u001b[39m\u001b[38;5;241m*\u001b[39mkwargs)  \u001b[38;5;66;03m# type: ignore[misc]\u001b[39;00m\n\u001b[1;32m   1510\u001b[0m \u001b[38;5;28;01melse\u001b[39;00m:\n\u001b[0;32m-> 1511\u001b[0m     \u001b[38;5;28;01mreturn\u001b[39;00m \u001b[38;5;28;43mself\u001b[39;49m\u001b[38;5;241;43m.\u001b[39;49m\u001b[43m_call_impl\u001b[49m\u001b[43m(\u001b[49m\u001b[38;5;241;43m*\u001b[39;49m\u001b[43margs\u001b[49m\u001b[43m,\u001b[49m\u001b[43m \u001b[49m\u001b[38;5;241;43m*\u001b[39;49m\u001b[38;5;241;43m*\u001b[39;49m\u001b[43mkwargs\u001b[49m\u001b[43m)\u001b[49m\n",
      "File \u001b[0;32m~/miniconda3/envs/matsciml/lib/python3.9/site-packages/torch/nn/modules/module.py:1520\u001b[0m, in \u001b[0;36mModule._call_impl\u001b[0;34m(self, *args, **kwargs)\u001b[0m\n\u001b[1;32m   1515\u001b[0m \u001b[38;5;66;03m# If we don't have any hooks, we want to skip the rest of the logic in\u001b[39;00m\n\u001b[1;32m   1516\u001b[0m \u001b[38;5;66;03m# this function, and just call forward.\u001b[39;00m\n\u001b[1;32m   1517\u001b[0m \u001b[38;5;28;01mif\u001b[39;00m \u001b[38;5;129;01mnot\u001b[39;00m (\u001b[38;5;28mself\u001b[39m\u001b[38;5;241m.\u001b[39m_backward_hooks \u001b[38;5;129;01mor\u001b[39;00m \u001b[38;5;28mself\u001b[39m\u001b[38;5;241m.\u001b[39m_backward_pre_hooks \u001b[38;5;129;01mor\u001b[39;00m \u001b[38;5;28mself\u001b[39m\u001b[38;5;241m.\u001b[39m_forward_hooks \u001b[38;5;129;01mor\u001b[39;00m \u001b[38;5;28mself\u001b[39m\u001b[38;5;241m.\u001b[39m_forward_pre_hooks\n\u001b[1;32m   1518\u001b[0m         \u001b[38;5;129;01mor\u001b[39;00m _global_backward_pre_hooks \u001b[38;5;129;01mor\u001b[39;00m _global_backward_hooks\n\u001b[1;32m   1519\u001b[0m         \u001b[38;5;129;01mor\u001b[39;00m _global_forward_hooks \u001b[38;5;129;01mor\u001b[39;00m _global_forward_pre_hooks):\n\u001b[0;32m-> 1520\u001b[0m     \u001b[38;5;28;01mreturn\u001b[39;00m \u001b[43mforward_call\u001b[49m\u001b[43m(\u001b[49m\u001b[38;5;241;43m*\u001b[39;49m\u001b[43margs\u001b[49m\u001b[43m,\u001b[49m\u001b[43m \u001b[49m\u001b[38;5;241;43m*\u001b[39;49m\u001b[38;5;241;43m*\u001b[39;49m\u001b[43mkwargs\u001b[49m\u001b[43m)\u001b[49m\n\u001b[1;32m   1522\u001b[0m \u001b[38;5;28;01mtry\u001b[39;00m:\n\u001b[1;32m   1523\u001b[0m     result \u001b[38;5;241m=\u001b[39m \u001b[38;5;28;01mNone\u001b[39;00m\n",
      "\u001b[0;31mRuntimeError\u001b[0m: The following operation failed in the TorchScript interpreter.\nTraceback of TorchScript (most recent call last):\n  File \"<eval_with_key>.21\", line 49, in forward\n    einsum_3 = torch.functional.einsum('edb,eca->ecdab', reshape_5, reshape_3)\n    reshape_12 = reshape_3.reshape(getitem_4, 64)\n    einsum_4 = torch.functional.einsum('ca,cab->cab', reshape_12, reshape_11);  reshape_12 = reshape_11 = None\n               ~~~~~~~~~~~~~~~~~~~~~~~ <--- HERE\n    einsum_5 = torch.functional.einsum('dbc,dca->dba', einsum_4, reshape_5);  einsum_4 = reshape_5 = None\n    reshape_13 = einsum_5.reshape(getitem_4, 192);  einsum_5 = None\nRuntimeError: CUDA out of memory. Tried to allocate 20.00 MiB. GPU 0 has a total capacity of 11.75 GiB of which 15.12 MiB is free. Process 392269 has 174.00 MiB memory in use. Process 2007541 has 10.59 GiB memory in use. Process 1709378 has 150.00 MiB memory in use. Process 3487595 has 554.00 MiB memory in use. Including non-PyTorch memory, this process has 222.00 MiB memory in use. Of the allocated memory 82.87 MiB is allocated by PyTorch, and 17.13 MiB is reserved by PyTorch but unallocated. If reserved but unallocated memory is large try setting PYTORCH_CUDA_ALLOC_CONF=expandable_segments:True to avoid fragmentation.  See documentation for Memory Management  (https://pytorch.org/docs/stable/notes/cuda.html#environment-variables)\n"
     ]
    }
   ],
   "source": [
    "counter=0\n",
    "Predictions_e=[]\n",
    "Actuals_e=[]\n",
    "for batch in train_loader:\n",
    "    batch2cuda(batch)\n",
    "    Result=task.forward(batch)\n",
    "\n",
    "    Pred_Energy=Result['regression0']['corrected_total_energy'].item()*norm_factors['energy_std']+norm_factors['energy_mean']\n",
    "    Pred_Forces=Result['gff_regression0']['force']\n",
    "\n",
    "    Actual_Energy=batch['targets']['corrected_total_energy'].item()\n",
    "    Actual_Forces=batch['targets']['force']\n",
    "\n",
    "    Predictions_e+=[Pred_Energy]\n",
    "    Actuals_e+=[Actual_Energy]\n",
    "    counter+=1\n",
    "    if(counter>10):\n",
    "        break\n",
    "\n"
   ]
  },
  {
   "cell_type": "code",
   "execution_count": null,
   "metadata": {},
   "outputs": [],
   "source": [
    "import matplotlib.pyplot as plt"
   ]
  },
  {
   "cell_type": "code",
   "execution_count": null,
   "metadata": {},
   "outputs": [
    {
     "data": {
      "text/plain": [
       "Text(0, 0.5, 'Predicted')"
      ]
     },
     "execution_count": 10,
     "metadata": {},
     "output_type": "execute_result"
    },
    {
     "data": {
      "image/png": "[encoded data removed]",
      "text/plain": [
       "<Figure size 640x480 with 1 Axes>"
      ]
     },
     "metadata": {},
     "output_type": "display_data"
    }
   ],
   "source": [
    "plt.scatter(Actuals_e,Predictions_e)\n",
    "plt.xlabel(\"Actual\")\n",
    "plt.ylabel(\"Predicted\")"
   ]
  },
  {
   "cell_type": "code",
   "execution_count": null,
   "metadata": {},
   "outputs": [
    {
     "name": "stderr",
     "output_type": "stream",
     "text": [
      "  0%|          | 0/10000 [00:00<?, ?it/s]\n"
     ]
    },
    {
     "ename": "KeyError",
     "evalue": "'energy'",
     "output_type": "error",
     "traceback": [
      "\u001b[0;31m---------------------------------------------------------------------------\u001b[0m",
      "\u001b[0;31mKeyError\u001b[0m                                  Traceback (most recent call last)",
      "Cell \u001b[0;32mIn[5], line 81\u001b[0m\n\u001b[1;32m     78\u001b[0m test_loader \u001b[38;5;241m=\u001b[39m dm\u001b[38;5;241m.\u001b[39mtest_dataloader()\n\u001b[1;32m     80\u001b[0m \u001b[38;5;66;03m# Process training data\u001b[39;00m\n\u001b[0;32m---> 81\u001b[0m train_results \u001b[38;5;241m=\u001b[39m \u001b[43mprocess_data_loader\u001b[49m\u001b[43m(\u001b[49m\u001b[43mtrain_loader\u001b[49m\u001b[43m,\u001b[49m\u001b[43m \u001b[49m\u001b[43mnorm_factors\u001b[49m\u001b[43m,\u001b[49m\u001b[43m \u001b[49m\u001b[43mtask\u001b[49m\u001b[43m,\u001b[49m\u001b[43m \u001b[49m\u001b[43mlimit\u001b[49m\u001b[38;5;241;43m=\u001b[39;49m\u001b[38;5;241;43m100\u001b[39;49m\u001b[43m)\u001b[49m\n\u001b[1;32m     83\u001b[0m \u001b[38;5;66;03m# Process test data\u001b[39;00m\n\u001b[1;32m     84\u001b[0m test_results \u001b[38;5;241m=\u001b[39m process_data_loader(test_loader, norm_factors, task, limit\u001b[38;5;241m=\u001b[39m\u001b[38;5;241m100\u001b[39m)\n",
      "Cell \u001b[0;32mIn[5], line 30\u001b[0m, in \u001b[0;36mprocess_data_loader\u001b[0;34m(data_loader, norm_factors, task, limit)\u001b[0m\n\u001b[1;32m     27\u001b[0m Result \u001b[38;5;241m=\u001b[39m task\u001b[38;5;241m.\u001b[39mforward(batch)\n\u001b[1;32m     29\u001b[0m Pred_Energy_corr \u001b[38;5;241m=\u001b[39m Result[\u001b[38;5;124m'\u001b[39m\u001b[38;5;124mregression0\u001b[39m\u001b[38;5;124m'\u001b[39m][\u001b[38;5;124m'\u001b[39m\u001b[38;5;124mcorrected_total_energy\u001b[39m\u001b[38;5;124m'\u001b[39m]\u001b[38;5;241m.\u001b[39mitem() \u001b[38;5;241m*\u001b[39m norm_factors[\u001b[38;5;124m'\u001b[39m\u001b[38;5;124menergy_std\u001b[39m\u001b[38;5;124m'\u001b[39m] \u001b[38;5;241m+\u001b[39m norm_factors[\u001b[38;5;124m'\u001b[39m\u001b[38;5;124menergy_mean\u001b[39m\u001b[38;5;124m'\u001b[39m]\n\u001b[0;32m---> 30\u001b[0m Pred_Energy \u001b[38;5;241m=\u001b[39m \u001b[43mResult\u001b[49m\u001b[43m[\u001b[49m\u001b[38;5;124;43m'\u001b[39;49m\u001b[38;5;124;43mgff_regression0\u001b[39;49m\u001b[38;5;124;43m'\u001b[39;49m\u001b[43m]\u001b[49m\u001b[43m[\u001b[49m\u001b[38;5;124;43m'\u001b[39;49m\u001b[38;5;124;43menergy\u001b[39;49m\u001b[38;5;124;43m'\u001b[39;49m\u001b[43m]\u001b[49m\u001b[38;5;241m.\u001b[39mitem() \u001b[38;5;241m*\u001b[39m norm_factors[\u001b[38;5;124m'\u001b[39m\u001b[38;5;124menergy_std\u001b[39m\u001b[38;5;124m'\u001b[39m] \u001b[38;5;241m+\u001b[39m norm_factors[\u001b[38;5;124m'\u001b[39m\u001b[38;5;124menergy_mean\u001b[39m\u001b[38;5;124m'\u001b[39m]\n\u001b[1;32m     32\u001b[0m Pred_Forces \u001b[38;5;241m=\u001b[39m Result[\u001b[38;5;124m'\u001b[39m\u001b[38;5;124mgff_regression0\u001b[39m\u001b[38;5;124m'\u001b[39m][\u001b[38;5;124m'\u001b[39m\u001b[38;5;124mforce\u001b[39m\u001b[38;5;124m'\u001b[39m]\n\u001b[1;32m     33\u001b[0m Actual_Energy_corr \u001b[38;5;241m=\u001b[39m batch[\u001b[38;5;124m'\u001b[39m\u001b[38;5;124mtargets\u001b[39m\u001b[38;5;124m'\u001b[39m][\u001b[38;5;124m'\u001b[39m\u001b[38;5;124menergy\u001b[39m\u001b[38;5;124m'\u001b[39m]\u001b[38;5;241m.\u001b[39mitem()\n",
      "\u001b[0;31mKeyError\u001b[0m: 'energy'"
     ]
    }
   ],
   "source": [
    "import matplotlib.pyplot as plt\n",
    "import numpy as np\n",
    "from sklearn.metrics import r2_score\n",
    "from tqdm import tqdm\n",
    "\n",
    "# Initialize lists for storing predictions and actual values\n",
    "def initialize_prediction_lists():\n",
    "    return {\n",
    "        'Predictions_corr_e': [],\n",
    "        'Actuals_corr_e': [],\n",
    "        'Predictions_e': [],\n",
    "        'Actuals_e': [],\n",
    "        'Predictions_Fx': [],\n",
    "        'Actuals_Fx': [],\n",
    "        'Predictions_Fy': [],\n",
    "        'Actuals_Fy': [],\n",
    "        'Predictions_Fz': [],\n",
    "        'Actuals_Fz': []\n",
    "    }\n",
    "\n",
    "# Function to process a data loader\n",
    "def process_data_loader(data_loader, norm_factors, task, limit=None):\n",
    "    results = initialize_prediction_lists()\n",
    "    counter = 0\n",
    "\n",
    "    for batch in tqdm(data_loader):\n",
    "        Result = task.forward(batch)\n",
    "\n",
    "        Pred_Energy_corr = Result['regression0']['corrected_total_energy'].item() * norm_factors['energy_std'] + norm_factors['energy_mean']\n",
    "        Pred_Energy = Result['force_regression0']['energy'].item() * norm_factors['energy_std'] + norm_factors['energy_mean']\n",
    "\n",
    "        Pred_Forces = Result['force_regression0']['force']\n",
    "        Actual_Energy_corr = batch['targets']['energy'].item()\n",
    "        Actual_Energy = batch['targets']['corrected_total_energy'].item()\n",
    "        \n",
    "        Actual_Forces = batch['targets']['force']\n",
    "\n",
    "        results['Predictions_corr_e'].append(Pred_Energy_corr)\n",
    "        results['Actuals_corr_e'].append(Actual_Energy_corr)\n",
    "        \n",
    "        results['Predictions_e'].append(Pred_Energy)\n",
    "        results['Actuals_e'].append(Actual_Energy)\n",
    "        \n",
    "        results['Predictions_Fx'] += Pred_Forces[:, 0].reshape(-1).detach().numpy().tolist()\n",
    "        results['Actuals_Fx'] += Actual_Forces[:, 0].reshape(-1).detach().numpy().tolist()\n",
    "\n",
    "        results['Predictions_Fy'] += Pred_Forces[:, 1].reshape(-1).detach().numpy().tolist()\n",
    "        results['Actuals_Fy'] += Actual_Forces[:, 1].reshape(-1).detach().numpy().tolist()\n",
    "\n",
    "        results['Predictions_Fz'] += Pred_Forces[:, 2].reshape(-1).detach().numpy().tolist()\n",
    "        results['Actuals_Fz'] += Actual_Forces[:, 2].reshape(-1).detach().numpy().tolist()\n",
    "\n",
    "        counter += 1\n",
    "        if limit and counter >= limit:\n",
    "            break\n",
    "\n",
    "    return results\n",
    "\n",
    "# Load data\n",
    "dm = MatSciMLDataModule(\n",
    "    \"MaterialsProjectDataset\",\n",
    "    train_path=\"/home/civil/phd/cez218288/scratch/Scaling_lmdb_new/10k_new\",\n",
    "    test_split=\"/home/civil/phd/cez218288/scratch/Scaling_lmdb_new/test_new\",\n",
    "    dset_kwargs={\n",
    "        \"transforms\": [\n",
    "            PeriodicPropertiesTransform(cutoff_radius=6.0, adaptive_cutoff=True),\n",
    "            PointCloudToGraphTransform(\n",
    "                \"pyg\",\n",
    "                node_keys=[\"pos\", \"atomic_numbers\"],\n",
    "            ),\n",
    "        ],\n",
    "    },\n",
    "    batch_size=1,\n",
    ")\n",
    "\n",
    "dm.setup()\n",
    "train_loader = dm.train_dataloader()\n",
    "test_loader = dm.test_dataloader()\n",
    "\n",
    "# Process training data\n",
    "train_results = process_data_loader(train_loader, norm_factors, task, limit=100)\n",
    "\n",
    "# Process test data\n",
    "test_results = process_data_loader(test_loader, norm_factors, task, limit=100)\n",
    "\n",
    "# Function to plot R² score with train and test data\n",
    "# Function to plot R² score with train and test data\n",
    "def plot_r2_score(train_actual, train_pred, test_actual, test_pred, title=\"Title\", suffix=\"10k_Faenet\"):\n",
    "    save_dir = '/home/civil/phd/cez218288/scratch/Simulation/plots/'  # Ensure this path ends with a slash\n",
    "\n",
    "    # Calculate R² score for train and test data\n",
    "    r2_train = r2_score(train_actual, train_pred)\n",
    "    r2_test = r2_score(test_actual, test_pred)\n",
    "\n",
    "    # Create the scatter plot\n",
    "    plt.figure(figsize=(6, 6))  # Adjust the figure size as needed\n",
    "    plt.scatter(train_actual, train_pred, label='Train', color='blue')\n",
    "    plt.scatter(test_actual, test_pred, label='Test', color='green')\n",
    "    plt.xlabel(\"Actual\", fontsize=20, fontweight='bold')\n",
    "    plt.ylabel(\"Predicted\", fontsize=20, fontweight='bold')\n",
    "    plt.xticks(rotation=90, fontsize=20, fontweight='bold')\n",
    "    plt.yticks(fontsize=20, fontweight='bold')\n",
    "    # Plot the 45-degree line\n",
    "    min_val = min(min(train_actual), min(test_actual), min(train_pred), min(test_pred))\n",
    "    max_val = max(max(train_actual), max(test_actual), max(train_pred), max(test_pred))\n",
    "    plt.plot([min_val, max_val], [min_val, max_val], color='red', linestyle='--')\n",
    "    plt.title(title, fontsize=20, fontweight='bold')\n",
    "\n",
    "    # Annotate the R² scores on the plot\n",
    "    plt.text(0.05, 0.95, f'Train R² = {r2_train:.5f}', transform=plt.gca().transAxes, fontsize=12, fontweight='bold', verticalalignment='top', color='blue')\n",
    "    plt.text(0.05, 0.90, f'Test R² = {r2_test:.5f}', transform=plt.gca().transAxes, fontsize=12, fontweight='bold', verticalalignment='top', color='green')\n",
    "\n",
    "    # Save the plot to the specified location with the title in the filename\n",
    "    filename = f\"{title.replace(' ', '_')}_{suffix}.png\"\n",
    "    plt.savefig(f'{save_dir}{filename}', bbox_inches='tight')  # Use bbox_inches='tight' to adjust the bounding box\n",
    "\n",
    "    # Show the plot\n",
    "    plt.show()\n",
    "    # Clear the current figure to avoid overlap\n",
    "    plt.clf()\n",
    "\n",
    "\n",
    "# Plot and save the results for combined training and test data\n",
    "plot_r2_score(train_results['Actuals_corr_e'], train_results['Predictions_corr_e'], test_results['Actuals_corr_e'], test_results['Predictions_corr_e'], \"Corrected Total Energy\", \"10k_mace\")\n",
    "plot_r2_score(train_results['Actuals_e'], train_results['Predictions_e'], test_results['Actuals_e'], test_results['Predictions_e'], \"Energy\", \"10k_mace\")\n",
    "plot_r2_score(train_results['Actuals_Fx'], train_results['Predictions_Fx'], test_results['Actuals_Fx'], test_results['Predictions_Fx'], \"Fx\", \"10k_mace\")\n",
    "plot_r2_score(train_results['Actuals_Fy'], train_results['Predictions_Fy'], test_results['Actuals_Fy'], test_results['Predictions_Fy'], \"Fy\", \"10k_mace\")\n",
    "plot_r2_score(train_results['Actuals_Fz'], train_results['Predictions_Fz'], test_results['Actuals_Fz'], test_results['Predictions_Fz'], \"Fz\", \"10k_mace\")\n"
   ]
  },
  {
   "cell_type": "code",
   "execution_count": null,
   "metadata": {},
   "outputs": [],
   "source": []
  }
 ],
 "metadata": {
  "kernelspec": {
   "display_name": "Python 3 (ipykernel)",
   "language": "python",
   "name": "python3"
  },
  "language_info": {
   "codemirror_mode": {
    "name": "ipython",
    "version": 3
   },
   "file_extension": ".py",
   "mimetype": "text/x-python",
   "name": "python",
   "nbconvert_exporter": "python",
   "pygments_lexer": "ipython3",
   "version": "3.9.19"
  }
 },
 "nbformat": 4,
 "nbformat_minor": 4
}
