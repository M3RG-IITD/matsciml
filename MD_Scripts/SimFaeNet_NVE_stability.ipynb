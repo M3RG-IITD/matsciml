{
 "cells": [
  {
   "cell_type": "code",
   "execution_count": 1,
   "metadata": {},
   "outputs": [],
   "source": [
    "from __future__ import annotations\n",
    "\n",
    "import os\n",
    "import sys\n",
    "import time\n",
    "import copy\n",
    "import yaml\n",
    "import logging\n",
    "import argparse\n",
    "from ase import Atoms\n",
    "from ase.io import read\n",
    "\n",
    "import numpy as np\n",
    "import torch\n",
    "import pytest\n",
    "\n",
    "from ase import Atoms, units\n",
    "from ase.md.langevin import Langevin\n",
    "from ase.io import read, write\n",
    "from ase.constraints import FixAtoms\n",
    "from ase.calculators.calculator import Calculator, all_changes\n",
    "from ase.stress import full_3x3_to_voigt_6_stress\n",
    "from ase.calculators.singlepoint import SinglePointCalculator as sp\n",
    "\n",
    "from tqdm import tqdm\n",
    "import pytorch_lightning as pl\n",
    "\n",
    "from matsciml.common.registry import registry\n",
    "from matsciml.common.utils import radius_graph_pbc, setup_imports, setup_logging\n",
    "from matsciml.datasets.transforms import (\n",
    "    PeriodicPropertiesTransform,\n",
    "    PointCloudToGraphTransform,\n",
    "    FrameAveraging,\n",
    ")\n",
    "from matsciml.datasets.trajectory_lmdb import data_list_collater\n",
    "from matsciml.lightning import MatSciMLDataModule\n",
    "from matsciml.models.pyg import FAENet\n",
    "from matsciml.models.base import ForceRegressionTask\n",
    "from matsciml.models.utils.io import multitask_from_checkpoint\n",
    "from matsciml.preprocessing.atoms_to_graphs import *\n",
    "from ase import units\n",
    "from ase.md.verlet import VelocityVerlet\n",
    "from ase.md.velocitydistribution import MaxwellBoltzmannDistribution\n",
    "from ase.io import read, write\n",
    "import numpy as np\n",
    "import time\n",
    "import torch\n",
    "import argparse\n",
    "import sys\n",
    "from tqdm import tqdm\n",
    "from ase.io import read\n",
    "from ase.neighborlist import neighbor_list\n"
   ]
  },
  {
   "cell_type": "code",
   "execution_count": 2,
   "metadata": {},
   "outputs": [],
   "source": [
    "a2g=AtomsToGraphs(max_neigh=200,\n",
    "            radius=6,\n",
    "            r_energy=False,\n",
    "            r_forces=False,\n",
    "            r_distances=False,\n",
    "            r_edges=True,\n",
    "            r_fixed=True,)\n",
    "f_avg=FrameAveraging(frame_averaging=\"3D\", fa_method=\"stochastic\")\n",
    "\n",
    "def convAtomstoBatch(atoms):\n",
    "    data_obj=a2g.convert(atoms)\n",
    "    Reformatted_batch={\n",
    "        'cell' : data_obj.cell,\n",
    "        'natoms' :  torch.Tensor([data_obj.natoms]).unsqueeze(0),\n",
    "        'edge_index' : [data_obj.edge_index.shape],\n",
    "        'cell_offsets': data_obj.cell_offsets,\n",
    "        'y' : None,\n",
    "        'force' : None, \n",
    "        'fixed' : [data_obj.fixed],\n",
    "        'tags' : None,\n",
    "        'sid' :None,\n",
    "        'fid' : None,\n",
    "        'dataset' : 'S2EFDataset',\n",
    "        'graph' : data_list_collater([data_obj]),\n",
    "    }\n",
    "    Reformatted_batch=f_avg(Reformatted_batch)\n",
    "    return Reformatted_batch\n"
   ]
  },
  {
   "cell_type": "code",
   "execution_count": 3,
   "metadata": {},
   "outputs": [],
   "source": [
    "def convBatchtoAtoms(batch):\n",
    "    # data_obj=a2g.convert(atoms)\n",
    "    curr_atoms = Atoms(\n",
    "            positions=batch['graph'].pos,\n",
    "            cell = batch['cell'][0],\n",
    "            numbers=batch['graph'].atomic_numbers,\n",
    "            pbc=True) # True or false\n",
    "    \n",
    "    return curr_atoms"
   ]
  },
  {
   "cell_type": "code",
   "execution_count": 4,
   "metadata": {},
   "outputs": [],
   "source": [
    "\n",
    "class FAENet_ASEcalculator(Calculator):\n",
    "    \"\"\"Simulation ASE Calculator\"\"\"\n",
    "\n",
    "    implemented_properties = [\"energy\", \"free_energy\", \"forces\", \"stress\"]\n",
    "\n",
    "    def __init__(\n",
    "        self,\n",
    "        model,\n",
    "        **kwargs\n",
    "    ):\n",
    "        Calculator.__init__(self, **kwargs)\n",
    "        self.results = {}\n",
    "\n",
    "        self.model = model\n",
    "        \n",
    "        \n",
    "    # pylint: disable=dangerous-default-value\n",
    "    def calculate(self, atoms=None, properties=None, system_changes=all_changes):\n",
    "        \"\"\"\n",
    "        Calculate properties.\n",
    "        :param atoms: ase.Atoms object\n",
    "        :param properties: [str], properties to be computed, used by ASE internally\n",
    "        :param system_changes: [str], system changes since last calculation, used by ASE internally\n",
    "        :return:\n",
    "        \"\"\"\n",
    "        # call to base-class to set atoms attribute\n",
    "        Calculator.calculate(self, atoms)\n",
    "\n",
    "        # prepare data\n",
    "        batch=convAtomstoBatch(atoms)\n",
    "\n",
    "        # predict + extract data\n",
    "        out = self.model(batch)\n",
    "        energy = out['force_regression0'][\"energy\"].detach().cpu().item()\n",
    "        forces = out['force_regression0'][\"force\"].detach().cpu().numpy()\n",
    "        stress = out['force_regression0'][\"stress\"].squeeze(0).detach().cpu().numpy()\n",
    "        # store results\n",
    "        E = energy\n",
    "        stress= np.array([stress[0, 0],\n",
    "                                   stress[1, 1],\n",
    "                                   stress[2, 2],\n",
    "                                   stress[1, 2],\n",
    "                                   stress[0, 2],\n",
    "                                   stress[0, 1]])\n",
    "        self.results = {\n",
    "            \"energy\": E,\n",
    "            # force has units eng / len:\n",
    "            \"forces\": forces,\n",
    "            \"stress\" : stress,\n",
    "        }\n"
   ]
  },
  {
   "cell_type": "code",
   "execution_count": 5,
   "metadata": {},
   "outputs": [],
   "source": [
    "from matsciml.models.utils.io import * \n",
    "checkpoint_path = \"/home/m3rg2000/Simulation/checkpoints-2024/FAENet_250k.ckpt\"\n",
    "Loaded_model = multitask_from_checkpoint(checkpoint_path)"
   ]
  },
  {
   "cell_type": "code",
   "execution_count": 7,
   "metadata": {},
   "outputs": [
    {
     "name": "stderr",
     "output_type": "stream",
     "text": [
      "/home/m3rg2000/Simulation/NPT_Env/matsciml/matsciml/preprocessing/atoms_to_graphs.py:355: UserWarning: Creating a tensor from a list of numpy.ndarrays is extremely slow. Please consider converting the list to a single numpy.ndarray with numpy.array() before converting to a tensor. (Triggered internally at /opt/conda/conda-bld/pytorch_1704987290837/work/torch/csrc/utils/tensor_new.cpp:275.)\n",
      "  cell = torch.Tensor(atoms.get_cell()).view(1, 3, 3)\n",
      "/home/m3rg2000/miniconda3/envs/matsciml/lib/python3.9/site-packages/torch/functional.py:507: UserWarning: torch.meshgrid: in an upcoming release, it will be required to pass the indexing argument. (Triggered internally at /opt/conda/conda-bld/pytorch_1704987290837/work/aten/src/ATen/native/TensorShape.cpp:3549.)\n",
      "  return _VF.meshgrid(tensors, **kwargs)  # type: ignore[attr-defined]\n",
      "/home/m3rg2000/miniconda3/envs/matsciml/lib/python3.9/site-packages/ase/md/verlet.py:42: FutureWarning: dt variable is deprecated; please use timestep.\n",
      "  warnings.warn(FutureWarning('dt variable is deprecated; please use timestep.'))\n"
     ]
    },
    {
     "name": "stdout",
     "output_type": "stream",
     "text": [
      "energy: 0.0\n",
      "lindemann_stability: 0.0\n",
      "energy: 0.009427899751892893\n",
      "energy: 0.006626798425159848\n",
      "energy: 0.009961618666532161\n",
      "energy: 0.020098465986984105\n",
      "energy: 0.021908535909705592\n",
      "energy: 0.018126575660275136\n",
      "energy: 0.011143645029550961\n",
      "energy: 0.022423224050134798\n",
      "energy: 0.024727013296317834\n",
      "energy: 0.023154431255706844\n",
      "lindemann_stability: 0.8795049631698294\n",
      "lindemann_stability criterion violated. Stopping the simulation.\n",
      "MD finished!\n"
     ]
    }
   ],
   "source": [
    "# class StabilityException(Exception):\n",
    "#     pass\n",
    "\n",
    "# start_time = time.time()\n",
    "# traj = []\n",
    "# calculator = FAENet_ASEcalculator(Loaded_model)\n",
    "# cif_file_path = \"/home/m3rg2000/Simulation/checkpoints-2024/Example.cif\"\n",
    "# atoms = read(cif_file_path)\n",
    "# atoms.set_calculator(calculator)\n",
    "# MaxwellBoltzmannDistribution(atoms, temperature_K=298)\n",
    "# initial_energy = atoms.get_total_energy()\n",
    "# dyn = VelocityVerlet(atoms, dt=1*units.fs)\n",
    "# def write_frame(a=atoms):\n",
    "#     a.write('md_FaeNet_nve_CIF.xyz', append=True)\n",
    "#     traj.append(a.copy())\n",
    "# dyn.attach(write_frame, interval=1)\n",
    "\n",
    "\n",
    "# def energy_criterion(atoms, initial_energy, tolerance=0.10):\n",
    "#     current_energy = atoms.get_total_energy()\n",
    "#     lower_bound = initial_energy * (1 - tolerance)\n",
    "#     upper_bound = initial_energy * (1 + tolerance)\n",
    "#     print('energy:',(abs(current_energy-initial_energy)/initial_energy))\n",
    "#     return lower_bound <= current_energy <= upper_bound\n",
    "\n",
    "# # Stability check function to stop the simulation if the criterion is violated\n",
    "# def check_stability(a=atoms):\n",
    "#     if not energy_criterion(a, initial_energy, tolerance=0.10):\n",
    "#         # print(total_energy-initial_energy)\n",
    "#         # print()\n",
    "#         raise StabilityException(\"Energy_criterion violated. Stopping the simulation.\")\n",
    "\n",
    "# # Attach the stability check function to the dynamics\n",
    "# dyn.attach(check_stability, interval=100)\n",
    "\n",
    "\n",
    "\n",
    "\n",
    "# def calculate_rmsd(traj):\n",
    "#     initial_positions = traj[0].get_positions()\n",
    "#     N = len(traj[0])\n",
    "#     T = len(traj)\n",
    "#     displacements = np.zeros((N, T, 3))\n",
    "    \n",
    "#     for t in range(T):\n",
    "#         current_positions = traj[t].get_positions()\n",
    "#         displacements[:, t, :] = current_positions - initial_positions\n",
    "\n",
    "#     msd = np.mean(np.sum(displacements**2, axis=2), axis=1)\n",
    "#     rmsd = np.sqrt(msd)\n",
    "#     return rmsd\n",
    "    \n",
    "# def calculate_average_nn_distance(atoms):\n",
    "#     i, j, _ = neighbor_list('ijd', atoms, cutoff=5.0)  ### What cutoff can be used?\n",
    "#     distances = atoms.get_distances(i, j, mic=True)\n",
    "#     return np.mean(distances)\n",
    "\n",
    "\n",
    "\n",
    "# def lindemann_stability():\n",
    "#     rmsd = calculate_rmsd(traj[-1000:])\n",
    "#     avg_nn_distance = calculate_average_nn_distance(traj[0])\n",
    "#     lindemann_coefficient = np.mean(rmsd) / avg_nn_distance\n",
    "#     print('lindemann_stability:',lindemann_coefficient)\n",
    "#     if lindemann_coefficient>0.1:\n",
    "#         # print(\"lindemann_stability criterion violated. Stopping the simulation.\")\n",
    "#         raise StabilityException(\"lindemann_stability criterion violated. Stopping the simulation.\")\n",
    "\n",
    "\n",
    "# dyn.attach(lindemann_stability, interval=1000)\n",
    "\n",
    "# try:\n",
    "#     # Run the simulation for 100 steps or until the stability criterion is violated\n",
    "#     dyn.run(2000)\n",
    "# except StabilityException as e:\n",
    "#     print(e)\n",
    "\n",
    "# print(\"MD finished!\")\n"
   ]
  },
  {
   "cell_type": "code",
   "execution_count": 9,
   "metadata": {},
   "outputs": [],
   "source": [
    "import os\n",
    "import time\n",
    "import numpy as np\n",
    "from ase.io import read\n",
    "from ase.md.velocitydistribution import MaxwellBoltzmannDistribution\n",
    "from ase.md.verlet import VelocityVerlet\n",
    "from ase import units\n",
    "import matplotlib.pyplot as plt\n",
    "from ase.io.formats import UnknownFileTypeError\n",
    "\n",
    "class StabilityException(Exception):\n",
    "    pass\n",
    "\n",
    "def run_simulation(atoms):\n",
    "    try:\n",
    "        start_time = time.time()\n",
    "        traj = []\n",
    "        calculator = FAENet_ASEcalculator(Loaded_model)\n",
    "        atoms.set_calculator(calculator)\n",
    "        MaxwellBoltzmannDistribution(atoms, temperature_K=298)\n",
    "        initial_energy = atoms.get_total_energy()\n",
    "        dyn = VelocityVerlet(atoms, dt=1*units.fs)\n",
    "\n",
    "        def write_frame(a=atoms):\n",
    "            # a.write('md_FaeNet_nve_CIF.xyz', append=True)\n",
    "            traj.append(a.copy())\n",
    "\n",
    "        dyn.attach(write_frame, interval=1)\n",
    "\n",
    "        def energy_criterion(atoms, initial_energy, tolerance=0.10):\n",
    "            current_energy = atoms.get_total_energy()\n",
    "            lower_bound = initial_energy * (1 - tolerance)\n",
    "            upper_bound = initial_energy * (1 + tolerance)\n",
    "            print('energy:', (abs(current_energy-initial_energy)/initial_energy))\n",
    "            return lower_bound <= current_energy <= upper_bound\n",
    "\n",
    "        def check_stability(a=atoms):\n",
    "            if not energy_criterion(a, initial_energy, tolerance=0.10):\n",
    "                raise StabilityException(\"Energy_criterion violated. Stopping the simulation.\")\n",
    "\n",
    "        dyn.attach(check_stability, interval=20)   ### energy dumping interval\n",
    "\n",
    "        def calculate_rmsd(traj):\n",
    "            initial_positions = traj[0].get_positions()\n",
    "            N = len(traj[0])\n",
    "            T = len(traj)\n",
    "            displacements = np.zeros((N, T, 3))\n",
    "            \n",
    "            for t in range(T):\n",
    "                current_positions = traj[t].get_positions()\n",
    "                displacements[:, t, :] = current_positions - initial_positions\n",
    "            msd = np.mean(np.sum(displacements**2, axis=2), axis=1)\n",
    "            rmsd = np.sqrt(msd)\n",
    "            return rmsd\n",
    "\n",
    "        def calculate_average_nn_distance(atoms):\n",
    "            i, j, _ = neighbor_list('ijd', atoms, cutoff=5.0)  ## Cutoff change\n",
    "            distances = atoms.get_distances(i, j, mic=True)\n",
    "            return np.mean(distances)\n",
    "\n",
    "        def lindemann_stability():\n",
    "            if len(traj) >= 50:\n",
    "                rmsd = calculate_rmsd(traj[-50:])\n",
    "                avg_nn_distance = calculate_average_nn_distance(traj[0])\n",
    "                lindemann_coefficient = np.mean(rmsd) / avg_nn_distance\n",
    "                print('lindemann_stability:', lindemann_coefficient)\n",
    "                if lindemann_coefficient > 0.1:\n",
    "                    raise StabilityException(\"lindemann_stability criterion violated. Stopping the simulation.\")\n",
    "\n",
    "        dyn.attach(lindemann_stability, interval=50)   ### last 1000 frames msd\n",
    "\n",
    "        try:\n",
    "            dyn.run(200)    ### No. of steps running simulation\n",
    "            return 200  # Simulation completed successfully\n",
    "        except StabilityException as e:\n",
    "            # print(f\"File: {os.path.basename(cif_file_path)} - {e}\")\n",
    "            return len(traj)  # Return the number of steps completed before failure\n",
    "\n",
    "    except (UnknownFileTypeError, IOError, ValueError) as e:\n",
    "        # print(f\"Error reading file {os.path.basename(cif_file_path)}: {str(e)}\")\n",
    "        return None  # Indicate that the file couldn't be processed\n",
    "\n"
   ]
  },
  {
   "cell_type": "code",
   "execution_count": 10,
   "metadata": {},
   "outputs": [],
   "source": [
    "# Load Data\n",
    "dm = MatSciMLDataModule(\n",
    "    \"MaterialsProjectDataset\",\n",
    "    train_path=\"/home/m3rg2000/matsciml/Scale_new_lmdb/10k_new\",#TRAIN_PATH,\n",
    "    # val_split=VAL_PATH,\n",
    "    # test_split=VAL_PATH,\n",
    "    dset_kwargs={\n",
    "        \"transforms\": [\n",
    "            PeriodicPropertiesTransform(cutoff_radius=6.0, adaptive_cutoff=True),\n",
    "            PointCloudToGraphTransform(\n",
    "                \"pyg\",\n",
    "                node_keys=[\"pos\", \"atomic_numbers\"],\n",
    "            ),\n",
    "            FrameAveraging(frame_averaging=\"3D\", fa_method=\"stochastic\"),\n",
    "        ],\n",
    "    },\n",
    "    batch_size=1,\n",
    ")\n",
    "\n",
    "dm.setup()\n",
    "train_loader = dm.train_dataloader()\n",
    "dataset_iter = iter(train_loader)\n",
    "batch = next(dataset_iter)\n"
   ]
  },
  {
   "cell_type": "code",
   "execution_count": 18,
   "metadata": {
    "scrolled": true
   },
   "outputs": [
    {
     "name": "stderr",
     "output_type": "stream",
     "text": [
      "  0%|                                                                                                                                                                | 0/10000 [00:00<?, ?it/s]"
     ]
    },
    {
     "name": "stdout",
     "output_type": "stream",
     "text": [
      "energy: 0.0\n",
      "energy: 3.8312869131013085e-05\n",
      "energy: 0.016224272097884303\n",
      "lindemann_stability: 0.20122057381271843\n"
     ]
    },
    {
     "name": "stderr",
     "output_type": "stream",
     "text": [
      "  0%|                                                                                                                                                      | 1/10000 [00:02<6:57:19,  2.50s/it]"
     ]
    },
    {
     "name": "stdout",
     "output_type": "stream",
     "text": [
      "energy: 0.0\n",
      "energy: 0.0006580372807878133\n",
      "energy: 0.00440004515034582\n",
      "lindemann_stability: 0.23906766989374717\n"
     ]
    },
    {
     "name": "stderr",
     "output_type": "stream",
     "text": [
      "  0%|                                                                                                                                                      | 2/10000 [00:04<5:18:38,  1.91s/it]"
     ]
    },
    {
     "name": "stdout",
     "output_type": "stream",
     "text": [
      "energy: 0.0\n",
      "energy: 0.02342622837337313\n",
      "energy: 0.025184115087101343\n",
      "lindemann_stability: 0.19060791484588194\n"
     ]
    },
    {
     "name": "stderr",
     "output_type": "stream",
     "text": [
      "  0%|                                                                                                                                                      | 3/10000 [00:07<7:19:46,  2.64s/it]"
     ]
    },
    {
     "name": "stdout",
     "output_type": "stream",
     "text": [
      "energy: 0.0\n",
      "energy: 0.0003642627279554307\n",
      "energy: 0.0011311741123877\n",
      "lindemann_stability: 0.30103519806167933\n"
     ]
    },
    {
     "name": "stderr",
     "output_type": "stream",
     "text": [
      "  0%|                                                                                                                                                      | 4/10000 [00:09<6:33:28,  2.36s/it]"
     ]
    },
    {
     "name": "stdout",
     "output_type": "stream",
     "text": [
      "energy: 0.0\n",
      "energy: 7.205166805977904e-05\n",
      "energy: 0.00010403703894635033\n",
      "lindemann_stability: 0.2852839766706362\n"
     ]
    },
    {
     "name": "stderr",
     "output_type": "stream",
     "text": [
      "  0%|                                                                                                                                                      | 5/10000 [00:11<6:00:47,  2.17s/it]"
     ]
    },
    {
     "name": "stdout",
     "output_type": "stream",
     "text": [
      "energy: 0.0\n",
      "energy: 0.0035314626596697945\n",
      "energy: 0.006194991871453482\n",
      "lindemann_stability: 0.1964845848626984\n"
     ]
    },
    {
     "name": "stderr",
     "output_type": "stream",
     "text": [
      "  0%|                                                                                                                                                      | 6/10000 [00:13<5:36:50,  2.02s/it]"
     ]
    },
    {
     "name": "stdout",
     "output_type": "stream",
     "text": [
      "energy: 0.0\n",
      "energy: 0.0002790206505035732\n",
      "energy: 0.004024769395014759\n",
      "lindemann_stability: 0.15551445206513237\n"
     ]
    },
    {
     "name": "stderr",
     "output_type": "stream",
     "text": [
      "  0%|                                                                                                                                                      | 7/10000 [00:15<6:17:10,  2.26s/it]"
     ]
    },
    {
     "name": "stdout",
     "output_type": "stream",
     "text": [
      "energy: 0.0\n",
      "energy: 0.0003298909692147317\n",
      "energy: 0.00021128346494727772\n",
      "lindemann_stability: 0.21454059573505063\n"
     ]
    },
    {
     "name": "stderr",
     "output_type": "stream",
     "text": [
      "  0%|                                                                                                                                                      | 8/10000 [00:17<5:46:23,  2.08s/it]"
     ]
    },
    {
     "name": "stdout",
     "output_type": "stream",
     "text": [
      "energy: 0.0\n",
      "energy: 0.00759761920381159\n",
      "energy: 0.03604185385514449\n",
      "lindemann_stability: 0.8996257194744471\n"
     ]
    },
    {
     "name": "stderr",
     "output_type": "stream",
     "text": [
      "  0%|▏                                                                                                                                                     | 9/10000 [00:19<6:00:40,  2.17s/it]"
     ]
    },
    {
     "name": "stdout",
     "output_type": "stream",
     "text": [
      "energy: 0.0\n",
      "energy: 0.0010049890261231076\n",
      "energy: 0.00021876088673153195\n",
      "lindemann_stability: 0.1669406230288212\n"
     ]
    },
    {
     "name": "stderr",
     "output_type": "stream",
     "text": [
      "  0%|▏                                                                                                                                                     | 9/10000 [00:22<6:59:11,  2.52s/it]\n"
     ]
    }
   ],
   "source": [
    "# Main execution\n",
    "from tqdm import tqdm\n",
    "# cif_folder = \"/home/m3rg2000/Simulation/checkpoints-2024/\"\n",
    "# failed_simulations = []\n",
    "time_steps = []\n",
    "unreadable_files = []\n",
    "counter=0\n",
    "for batch in tqdm(train_loader):\n",
    "    atoms=convBatchtoAtoms(batch)\n",
    "    steps_completed = run_simulation(atoms)        \n",
    "    time_steps.append(steps_completed)\n",
    "\n",
    "    counter += 1\n",
    "    del batch\n",
    "    if counter >= 10:\n",
    "        break\n",
    "\n"
   ]
  },
  {
   "cell_type": "code",
   "execution_count": null,
   "metadata": {},
   "outputs": [],
   "source": []
  }
 ],
 "metadata": {
  "kernelspec": {
   "display_name": "Python (matsciml)",
   "language": "python",
   "name": "matsciml"
  },
  "language_info": {
   "codemirror_mode": {
    "name": "ipython",
    "version": 3
   },
   "file_extension": ".py",
   "mimetype": "text/x-python",
   "name": "python",
   "nbconvert_exporter": "python",
   "pygments_lexer": "ipython3",
   "version": "3.9.19"
  }
 },
 "nbformat": 4,
 "nbformat_minor": 4
}
