{
 "cells": [
  {
   "cell_type": "code",
   "execution_count": 1,
   "metadata": {},
   "outputs": [],
   "source": [
    "from __future__ import annotations\n",
    "\n",
    "import os\n",
    "import sys\n",
    "import time\n",
    "import copy\n",
    "import yaml\n",
    "import logging\n",
    "import argparse\n",
    "\n",
    "import numpy as np\n",
    "import torch\n",
    "import pytest\n",
    "\n",
    "from ase import Atoms, units\n",
    "from ase.md.langevin import Langevin\n",
    "from ase.io import read, write\n",
    "from ase.constraints import FixAtoms\n",
    "from ase.calculators.calculator import Calculator, all_changes\n",
    "from ase.stress import full_3x3_to_voigt_6_stress\n",
    "from ase.calculators.singlepoint import SinglePointCalculator as sp\n",
    "\n",
    "from tqdm import tqdm\n",
    "import pytorch_lightning as pl\n",
    "\n",
    "from matsciml.common.registry import registry\n",
    "from matsciml.common.utils import radius_graph_pbc, setup_imports, setup_logging\n",
    "from matsciml.datasets.transforms import (\n",
    "    PeriodicPropertiesTransform,\n",
    "    PointCloudToGraphTransform,\n",
    "    FrameAveraging,\n",
    ")\n",
    "from matsciml.datasets.trajectory_lmdb import data_list_collater\n",
    "from matsciml.lightning import MatSciMLDataModule\n",
    "from matsciml.models.pyg import FAENet\n",
    "from matsciml.models.base import ForceRegressionTask\n",
    "from matsciml.models.utils.io import multitask_from_checkpoint\n",
    "from matsciml.preprocessing.atoms_to_graphs import *\n"
   ]
  },
  {
   "cell_type": "code",
   "execution_count": 2,
   "metadata": {},
   "outputs": [],
   "source": [
    "checkpoint_path = \"/home/m3rg2000/Simulation/checkpoints-2024/FAENet_250k.ckpt\"\n",
    "Loaded_model = multitask_from_checkpoint(checkpoint_path)"
   ]
  },
  {
   "cell_type": "code",
   "execution_count": 3,
   "metadata": {},
   "outputs": [],
   "source": [
    "a2g=AtomsToGraphs(max_neigh=200,\n",
    "            radius=6,\n",
    "            r_energy=False,\n",
    "            r_forces=False,\n",
    "            r_distances=False,\n",
    "            r_edges=True,\n",
    "            r_fixed=True,)\n",
    "f_avg=FrameAveraging(frame_averaging=\"3D\", fa_method=\"stochastic\")\n",
    "\n",
    "def convAtomstoBatch(atoms):\n",
    "    data_obj=a2g.convert(atoms)\n",
    "    Reformatted_batch={\n",
    "        'cell' : data_obj.cell,\n",
    "        'natoms' :  torch.Tensor([data_obj.natoms]).unsqueeze(0),\n",
    "        'edge_index' : [data_obj.edge_index.shape],\n",
    "        'cell_offsets': data_obj.cell_offsets,\n",
    "        'y' : None,\n",
    "        'force' : None, \n",
    "        'fixed' : [data_obj.fixed],\n",
    "        'tags' : None,\n",
    "        'sid' :None,\n",
    "        'fid' : None,\n",
    "        'dataset' : 'S2EFDataset',\n",
    "        'graph' : data_list_collater([data_obj]),\n",
    "    }\n",
    "    Reformatted_batch=f_avg(Reformatted_batch)\n",
    "    return Reformatted_batch\n"
   ]
  },
  {
   "cell_type": "code",
   "execution_count": 4,
   "metadata": {},
   "outputs": [],
   "source": [
    "\n",
    "class FAENet_ASEcalculator(Calculator):\n",
    "    \"\"\"Simulation ASE Calculator\"\"\"\n",
    "\n",
    "    implemented_properties = [\"energy\", \"free_energy\", \"forces\", \"stress\"]\n",
    "\n",
    "    def __init__(\n",
    "        self,\n",
    "        model,\n",
    "        **kwargs\n",
    "    ):\n",
    "        Calculator.__init__(self, **kwargs)\n",
    "        self.results = {}\n",
    "\n",
    "        self.model = model\n",
    "        \n",
    "        \n",
    "    # pylint: disable=dangerous-default-value\n",
    "    def calculate(self, atoms=None, properties=None, system_changes=all_changes):\n",
    "        \"\"\"\n",
    "        Calculate properties.\n",
    "        :param atoms: ase.Atoms object\n",
    "        :param properties: [str], properties to be computed, used by ASE internally\n",
    "        :param system_changes: [str], system changes since last calculation, used by ASE internally\n",
    "        :return:\n",
    "        \"\"\"\n",
    "        # call to base-class to set atoms attribute\n",
    "        Calculator.calculate(self, atoms)\n",
    "\n",
    "        # prepare data\n",
    "        batch=convAtomstoBatch(atoms)\n",
    "\n",
    "        # predict + extract data\n",
    "        out = self.model(batch)\n",
    "        energy = out['force_regression0'][\"energy\"].detach().cpu().item()\n",
    "        forces = out['force_regression0'][\"force\"].detach().cpu().numpy()\n",
    "        stress = out['force_regression0'][\"stress\"].squeeze(0).detach().cpu().numpy()\n",
    "        # store results\n",
    "        E = energy\n",
    "        stress= np.array([stress[0, 0],\n",
    "                                   stress[1, 1],\n",
    "                                   stress[2, 2],\n",
    "                                   stress[1, 2],\n",
    "                                   stress[0, 2],\n",
    "                                   stress[0, 1]])\n",
    "        self.results = {\n",
    "            \"energy\": E,\n",
    "            # force has units eng / len:\n",
    "            \"forces\": forces,\n",
    "            \"stress\" : stress,\n",
    "        }\n"
   ]
  },
  {
   "cell_type": "code",
   "execution_count": 5,
   "metadata": {},
   "outputs": [],
   "source": [
    "def FIRE_Relax(atoms, calculator, NStep=1e4, ftol=1e-5,plot=False):\n",
    "    atoms.set_calculator(calculator)\n",
    "    optimizer = FIRE(atoms)\n",
    "    trajectory = []\n",
    "    energies = []\n",
    "    def record_trajectory():\n",
    "        trajectory.append(atoms.copy())\n",
    "        energies.append(atoms.get_potential_energy())\n",
    "    optimizer.attach(record_trajectory, interval=1)\n",
    "    optimizer.run(fmax=ftol,steps=NStep)\n",
    "    \n",
    "    if(plot):\n",
    "        # Plotting energy vs. optimization step\n",
    "        plt.figure()\n",
    "        plt.plot(energies)\n",
    "        plt.xlabel('Optimization Step')\n",
    "        plt.ylabel('Energy (eV)')\n",
    "        plt.title('Energy vs. Optimization Step')\n",
    "        plt.grid(True)\n",
    "        plt.show()\n",
    "    return trajectory, energies\n",
    "\n",
    "    "
   ]
  },
  {
   "cell_type": "code",
   "execution_count": 6,
   "metadata": {
    "scrolled": true
   },
   "outputs": [
    {
     "name": "stderr",
     "output_type": "stream",
     "text": [
      "/home/m3rg2000/Simulation/NPT_Env/matsciml/matsciml/preprocessing/atoms_to_graphs.py:355: UserWarning: Creating a tensor from a list of numpy.ndarrays is extremely slow. Please consider converting the list to a single numpy.ndarray with numpy.array() before converting to a tensor. (Triggered internally at /opt/conda/conda-bld/pytorch_1704987290837/work/torch/csrc/utils/tensor_new.cpp:275.)\n",
      "  cell = torch.Tensor(atoms.get_cell()).view(1, 3, 3)\n",
      "/home/m3rg2000/miniconda3/envs/matsciml/lib/python3.9/site-packages/torch/functional.py:507: UserWarning: torch.meshgrid: in an upcoming release, it will be required to pass the indexing argument. (Triggered internally at /opt/conda/conda-bld/pytorch_1704987290837/work/aten/src/ATen/native/TensorShape.cpp:3549.)\n",
      "  return _VF.meshgrid(tensors, **kwargs)  # type: ignore[attr-defined]\n"
     ]
    },
    {
     "name": "stdout",
     "output_type": "stream",
     "text": [
      "      Step     Time          Energy         fmax\n",
      "FIRE:    0 12:13:58        3.696498        0.0371\n",
      "FIRE:    1 12:13:58        3.689008        0.0693\n",
      "FIRE:    2 12:13:58        3.689156        0.0709\n",
      "FIRE:    3 12:13:58        3.696038        0.0346\n",
      "FIRE:    4 12:13:59        3.699845        0.0400\n",
      "FIRE:    5 12:13:59        3.699249        0.0438\n",
      "FIRE:    6 12:13:59        3.685448        0.0824\n",
      "FIRE:    7 12:13:59        3.688039        0.0918\n",
      "FIRE:    8 12:13:59        3.681027        0.1028\n",
      "FIRE:    9 12:13:59        3.682376        0.1171\n",
      "FIRE:   10 12:13:59        3.678166        0.1286\n"
     ]
    },
    {
     "data": {
      "image/png": "[encoded data removed]",
      "text/plain": [
       "<Figure size 640x480 with 1 Axes>"
      ]
     },
     "metadata": {},
     "output_type": "display_data"
    }
   ],
   "source": [
    "import time\n",
    "from ase.io import read\n",
    "from ase.optimize import FIRE\n",
    "from ase.calculators.calculator import Calculator\n",
    "import matplotlib.pyplot as plt\n",
    "\n",
    "start_time = time.time()\n",
    "calculator = FAENet_ASEcalculator(Loaded_model)\n",
    "cif_file_path = \"/home/m3rg2000/Simulation/checkpoints-2024/SiO2.cif\"\n",
    "atoms = read(cif_file_path)\n",
    "OptimTraj, OptimEnergies=FIRE_Relax(atoms, calculator, NStep=10, ftol=1e-5,plot=True)"
   ]
  },
  {
   "cell_type": "code",
   "execution_count": null,
   "metadata": {},
   "outputs": [],
   "source": []
  }
 ],
 "metadata": {
  "kernelspec": {
   "display_name": "Python (matsciml)",
   "language": "python",
   "name": "matsciml"
  },
  "language_info": {
   "codemirror_mode": {
    "name": "ipython",
    "version": 3
   },
   "file_extension": ".py",
   "mimetype": "text/x-python",
   "name": "python",
   "nbconvert_exporter": "python",
   "pygments_lexer": "ipython3",
   "version": "3.9.19"
  }
 },
 "nbformat": 4,
 "nbformat_minor": 4
}
