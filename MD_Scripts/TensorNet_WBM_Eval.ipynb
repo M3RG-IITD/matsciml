{
 "cells": [
  {
   "cell_type": "code",
   "execution_count": 10,
   "metadata": {},
   "outputs": [],
   "source": [
    "import pytest\n",
    "import pytorch_lightning as pl\n",
    "\n",
    "from matsciml.datasets.transforms import (\n",
    "    PeriodicPropertiesTransform,\n",
    "    PointCloudToGraphTransform,\n",
    "    PointCloudToGraphTransform,\n",
    "    MGLDataTransform,\n",
    ")\n",
    "from matsciml.lightning import MatSciMLDataModule\n",
    "from matsciml.common.registry import registry\n",
    "from matsciml.models import TensorNet\n",
    "from matsciml.datasets.utils import element_types\n",
    "from matsciml.models.base import ForceRegressionTask, GradFreeForceRegressionTask\n",
    "\n",
    "import torch"
   ]
  },
  {
   "cell_type": "code",
   "execution_count": 11,
   "metadata": {},
   "outputs": [],
   "source": [
    "from matsciml.models.utils.io import * \n",
    "checkpoint_path = \"/home/m3rg2000/Simulation/checkpoints-2024/epoch=4-step=4695_tensornet_force_r.ckpt\"#\"/home/m3rg2000/Simulation/checkpoints-2024/epoch=2-step=5625_tensornet.ckpt\"\n",
    "task = multitask_from_checkpoint(checkpoint_path)"
   ]
  },
  {
   "cell_type": "code",
   "execution_count": 12,
   "metadata": {},
   "outputs": [],
   "source": [
    "# Load Data\n",
    "dm = MatSciMLDataModule(\n",
    "    \"MaterialsProjectDataset\",\n",
    "    train_path=\"/home/m3rg2000/matsciml/Scale_new_lmdb/10k_new\",#TRAIN_PATH,\n",
    "    # val_split=VAL_PATH,\n",
    "    # test_split=VAL_PATH,\n",
    "    dset_kwargs={\n",
    "        \"transforms\": [\n",
    "            PeriodicPropertiesTransform(cutoff_radius=6.0, adaptive_cutoff=True),\n",
    "            PointCloudToGraphTransform(\n",
    "                \"dgl\",\n",
    "                node_keys=[\"pos\", \"atomic_numbers\"],\n",
    "            ),\n",
    "        ],\n",
    "    },\n",
    "    batch_size=1,\n",
    ")\n",
    "\n",
    "dm.setup()\n",
    "train_loader = dm.train_dataloader()\n",
    "dataset_iter = iter(train_loader)\n",
    "batch = next(dataset_iter)\n"
   ]
  },
  {
   "cell_type": "code",
   "execution_count": 13,
   "metadata": {},
   "outputs": [],
   "source": [
    "counter=0\n",
    "Predictions_e=[]\n",
    "Actuals_e=[]\n",
    "for batch in train_loader:\n",
    "    Result=task.forward(batch)\n",
    "\n",
    "    Pred_Energy=Result['regression0']['corrected_total_energy'].item()\n",
    "    Pred_Forces=Result['force_regression0']['force']\n",
    "\n",
    "    Actual_Energy=batch['targets']['corrected_total_energy'].item()\n",
    "    Actual_Forces=batch['targets']['force']\n",
    "\n",
    "    Predictions_e+=[Pred_Energy]\n",
    "    Actuals_e+=[Actual_Energy]\n",
    "    counter+=1\n",
    "    if(counter>10):\n",
    "        break\n",
    "\n"
   ]
  },
  {
   "cell_type": "code",
   "execution_count": 14,
   "metadata": {},
   "outputs": [],
   "source": [
    "import matplotlib.pyplot as plt"
   ]
  },
  {
   "cell_type": "code",
   "execution_count": null,
   "metadata": {},
   "outputs": [],
   "source": []
  },
  {
   "cell_type": "code",
   "execution_count": 15,
   "metadata": {},
   "outputs": [
    {
     "data": {
      "text/plain": [
       "Text(0, 0.5, 'Predicted')"
      ]
     },
     "execution_count": 15,
     "metadata": {},
     "output_type": "execute_result"
    },
    {
     "data": {
      "image/png": "[encoded data removed]",
      "text/plain": [
       "<Figure size 640x480 with 1 Axes>"
      ]
     },
     "metadata": {},
     "output_type": "display_data"
    }
   ],
   "source": [
    "plt.scatter(Actuals_e,Predictions_e)\n",
    "plt.xlabel(\"Actual\")\n",
    "plt.ylabel(\"Predicted\")"
   ]
  },
  {
   "cell_type": "code",
   "execution_count": null,
   "metadata": {},
   "outputs": [],
   "source": []
  }
 ],
 "metadata": {
  "kernelspec": {
   "display_name": "Python 3 (ipykernel)",
   "language": "python",
   "name": "python3"
  },
  "language_info": {
   "codemirror_mode": {
    "name": "ipython",
    "version": 3
   },
   "file_extension": ".py",
   "mimetype": "text/x-python",
   "name": "python",
   "nbconvert_exporter": "python",
   "pygments_lexer": "ipython3",
   "version": "3.9.19"
  }
 },
 "nbformat": 4,
 "nbformat_minor": 4
}
