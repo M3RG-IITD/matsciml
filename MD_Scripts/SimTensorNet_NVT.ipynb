{
 "cells": [
  {
   "cell_type": "code",
   "execution_count": 1,
   "metadata": {},
   "outputs": [],
   "source": [
    "import pytest\n",
    "import pytorch_lightning as pl\n",
    "\n",
    "from matsciml.datasets.transforms import (\n",
    "    PeriodicPropertiesTransform,\n",
    "    PointCloudToGraphTransform,\n",
    "    PointCloudToGraphTransform,\n",
    "    MGLDataTransform,\n",
    ")\n",
    "from matsciml.lightning import MatSciMLDataModule\n",
    "from matsciml.common.registry import registry\n",
    "from matsciml.models import TensorNet\n",
    "from matsciml.datasets.utils import element_types\n",
    "from matsciml.models.base import ForceRegressionTask, GradFreeForceRegressionTask\n",
    "\n",
    "import torch"
   ]
  },
  {
   "cell_type": "code",
   "execution_count": 4,
   "metadata": {},
   "outputs": [],
   "source": [
    "from matsciml.models.utils.io import * \n",
    "checkpoint_path = \"/home/m3rg2000/Simulation/checkpoints-2024/epoch=4-step=4695_tensornet_force_r.ckpt\"\n",
    "Loaded_model = multitask_from_checkpoint(checkpoint_path)"
   ]
  },
  {
   "cell_type": "code",
   "execution_count": 5,
   "metadata": {},
   "outputs": [
    {
     "data": {
      "text/plain": [
       "MultiTask Training module:\n",
       "MaterialsProjectDataset-regression0\n",
       "MaterialsProjectDataset-force_regression0"
      ]
     },
     "execution_count": 5,
     "metadata": {},
     "output_type": "execute_result"
    }
   ],
   "source": [
    "Loaded_model"
   ]
  },
  {
   "cell_type": "code",
   "execution_count": 6,
   "metadata": {},
   "outputs": [],
   "source": [
    "from matsciml.preprocessing.atoms_to_graphs import *\n",
    "a2g=AtomsToDGL(max_neigh=50,\n",
    "            radius=6,\n",
    "            r_energy=False,\n",
    "            r_forces=False,\n",
    "            r_distances=False,\n",
    "            r_edges=True,\n",
    "            r_fixed=True,)\n",
    "\n",
    "\n",
    "from matsciml.datasets.trajectory_lmdb import data_list_collater\n",
    "\n",
    "PBCTransform=PeriodicPropertiesTransform(cutoff_radius=6.0, adaptive_cutoff=True)\n",
    "GTransform=PointCloudToGraphTransform(\n",
    "                \"dgl\",\n",
    "                node_keys=[\"pos\", \"atomic_numbers\"],\n",
    "            )\n",
    "\n",
    "def convAtomstoBatch(atoms):\n",
    "    data_obj=a2g.convert(atoms)\n",
    "    Reformatted_batch={\n",
    "        'cell' : data_obj.cell,\n",
    "        'natoms' :  torch.Tensor([data_obj.natoms]).unsqueeze(0),\n",
    "        'edge_index' : data_obj.edge_index,\n",
    "        'cell_offsets': data_obj.cell_offsets,\n",
    "        'atomic_numbers': data_obj.atomic_numbers,\n",
    "        'y' : None,\n",
    "        'pos' : data_obj.pos,\n",
    "        'force' : None, \n",
    "        'fixed' : [data_obj.fixed],\n",
    "        'tags' : None,\n",
    "        'sid' :None,\n",
    "        'fid' : None,\n",
    "        'dataset' : 'S2EFDataset',\n",
    "        #'graph' : data_obj.graph,\n",
    "    }\n",
    "    Reformatted_batch=PBCTransform(Reformatted_batch)\n",
    "    Reformatted_batch=GTransform(Reformatted_batch)\n",
    "    return Reformatted_batch"
   ]
  },
  {
   "cell_type": "code",
   "execution_count": 8,
   "metadata": {},
   "outputs": [],
   "source": [
    "from matsciml.datasets.trajectory_lmdb import data_list_collater\n",
    "from __future__ import annotations\n",
    "\n",
    "import copy\n",
    "import logging\n",
    "import os\n",
    "\n",
    "import torch\n",
    "import yaml\n",
    "from ase import Atoms\n",
    "from ase.calculators.calculator import Calculator\n",
    "from ase.calculators.singlepoint import SinglePointCalculator as sp\n",
    "from ase.constraints import FixAtoms\n",
    "\n",
    "from matsciml.common.registry import registry\n",
    "from matsciml.common.utils import radius_graph_pbc, setup_imports, setup_logging\n",
    "from matsciml.datasets.trajectory_lmdb import data_list_collater\n",
    "from torch_geometric.data import Batch\n",
    "from ase import units\n",
    "from ase.md.langevin import Langevin\n",
    "from ase.io import read, write\n",
    "import numpy as np\n",
    "import time\n",
    "import torch\n",
    "import sys\n",
    "from tqdm import tqdm\n",
    "\n",
    "import time\n"
   ]
  },
  {
   "cell_type": "code",
   "execution_count": 11,
   "metadata": {},
   "outputs": [],
   "source": [
    "import torch\n",
    "from ase.calculators.calculator import Calculator, all_changes\n",
    "#from ase.stress import full_3x3_to_voigt_6_stress\n",
    "\n",
    "class TensorNet_ASEcalculator(Calculator):\n",
    "    \"\"\"Simulation ASE Calculator\"\"\"\n",
    "\n",
    "    implemented_properties = [\"energy\" , \"forces\"]\n",
    "\n",
    "    def __init__(\n",
    "        self,\n",
    "        model,\n",
    "        **kwargs\n",
    "    ):\n",
    "        Calculator.__init__(self, **kwargs)\n",
    "        self.results = {}\n",
    "\n",
    "        self.model = model\n",
    "        \n",
    "        \n",
    "    # pylint: disable=dangerous-default-value\n",
    "    def calculate(self, atoms=None, properties=None, system_changes=all_changes):\n",
    "        \"\"\"\n",
    "        Calculate properties.\n",
    "        :param atoms: ase.Atoms object\n",
    "        :param properties: [str], properties to be computed, used by ASE internally\n",
    "        :param system_changes: [str], system changes since last calculation, used by ASE internally\n",
    "        :return:\n",
    "        \"\"\"\n",
    "        # call to base-class to set atoms attribute\n",
    "        Calculator.calculate(self, atoms)\n",
    "\n",
    "        # prepare data\n",
    "        batch=convAtomstoBatch(atoms)\n",
    "\n",
    "        # predict + extract data\n",
    "        out = self.model.forward(batch)\n",
    "        energy = out['regression0']['corrected_total_energy'].detach().cpu().item()\n",
    "        forces = out['force_regression0'][\"force\"].detach().cpu().numpy()\n",
    "        #stress = out[\"stress\"].squeeze(0).detach().cpu().numpy()\n",
    "        # store results\n",
    "        E = energy\n",
    "        # stress= np.array([stress[0, 0],\n",
    "        #                            stress[1, 1],\n",
    "        #                            stress[2, 2],\n",
    "        #                            stress[1, 2],\n",
    "        #                            stress[0, 2],\n",
    "        #                            stress[0, 1]])\n",
    "        self.results = {\n",
    "            \"energy\": E,\n",
    "            # force has units eng / len:\n",
    "            \"forces\": forces,\n",
    "            #\"stress\" : stress,\n",
    "        }\n"
   ]
  },
  {
   "cell_type": "code",
   "execution_count": 14,
   "metadata": {},
   "outputs": [
    {
     "name": "stdout",
     "output_type": "stream",
     "text": [
      "MD finished!\n"
     ]
    }
   ],
   "source": [
    "from ase import units\n",
    "from ase.md.langevin import Langevin\n",
    "from ase.io import read, write\n",
    "import numpy as np\n",
    "import time\n",
    "import torch\n",
    "import argparse\n",
    "import sys\n",
    "from tqdm import tqdm\n",
    "import time\n",
    "from ase.io import read\n",
    "\n",
    "\n",
    "start_time=time.time()\n",
    "\n",
    "calculator = TensorNet_ASEcalculator(Loaded_model)\n",
    "#calculator.model.double() # change model weights type to double precision(hack to avoid error)\n",
    "# Path to the CIF file\n",
    "cif_file_path = \"/home/m3rg2000/Simulation/checkpoints-2024/Example.cif\"\n",
    "#cif_file_path = \"/home/m3rg2000/Simulation/checkpoints-2024/S2EF.extxyz\"\n",
    "\n",
    "# Read CIF file using ASE\n",
    "atoms = read(cif_file_path)\n",
    "init_conf=atoms\n",
    "init_conf.set_calculator(calculator)\n",
    "#calculator.model.double()\n",
    "dyn = Langevin(init_conf, 1*units.fs, temperature_K=298,friction=5e-3) \n",
    "def write_frame():\n",
    "    dyn.atoms.write(f'md_TensorNET_langevin_CIF.xyz', append=True)\n",
    "dyn.attach(write_frame, interval=1)\n",
    "dyn.run(1000)\n",
    "print(f\"MD finished!\")"
   ]
  },
  {
   "cell_type": "code",
   "execution_count": null,
   "metadata": {},
   "outputs": [],
   "source": []
  }
 ],
 "metadata": {
  "kernelspec": {
   "display_name": "Python 3 (ipykernel)",
   "language": "python",
   "name": "python3"
  },
  "language_info": {
   "codemirror_mode": {
    "name": "ipython",
    "version": 3
   },
   "file_extension": ".py",
   "mimetype": "text/x-python",
   "name": "python",
   "nbconvert_exporter": "python",
   "pygments_lexer": "ipython3",
   "version": "3.9.19"
  }
 },
 "nbformat": 4,
 "nbformat_minor": 4
}
