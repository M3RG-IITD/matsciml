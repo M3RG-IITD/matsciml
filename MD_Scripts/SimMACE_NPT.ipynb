{
 "cells": [
  {
   "cell_type": "code",
   "execution_count": 7,
   "metadata": {},
   "outputs": [],
   "source": [
    "from __future__ import annotations\n",
    "\n",
    "import argparse\n",
    "import copy\n",
    "import logging\n",
    "import numpy as np\n",
    "import os\n",
    "import sys\n",
    "import time\n",
    "import torch\n",
    "import yaml\n",
    "from tqdm import tqdm\n",
    "\n",
    "import pytorch_lightning as pl\n",
    "from torch import nn\n",
    "from torch_geometric.data import Batch\n",
    "\n",
    "from ase import Atoms, units\n",
    "from ase.calculators.calculator import Calculator, all_changes\n",
    "from ase.calculators.singlepoint import SinglePointCalculator as sp\n",
    "from ase.constraints import FixAtoms\n",
    "from ase.io import read, write\n",
    "from ase.md.langevin import Langevin\n",
    "from ase.md.nptberendsen import NPTBerendsen\n",
    "\n",
    "from matsciml.common.registry import registry\n",
    "from matsciml.common.utils import radius_graph_pbc, setup_imports, setup_logging\n",
    "from matsciml.datasets.transforms import (\n",
    "    PeriodicPropertiesTransform,\n",
    "    PointCloudToGraphTransform,\n",
    "    FrameAveraging,\n",
    ")\n",
    "from matsciml.datasets.trajectory_lmdb import data_list_collater\n",
    "from matsciml.lightning.data_utils import MatSciMLDataModule\n",
    "from matsciml.models.base import ScalarRegressionTask\n",
    "from matsciml.models.utils.io import *\n",
    "from matsciml.preprocessing.atoms_to_graphs import *\n"
   ]
  },
  {
   "cell_type": "code",
   "execution_count": 8,
   "metadata": {
    "scrolled": true
   },
   "outputs": [
    {
     "name": "stderr",
     "output_type": "stream",
     "text": [
      "No ``atomic_energies`` provided, defaulting to ones.\n",
      "/home/m3rg2000/miniconda3/envs/matsciml/lib/python3.9/site-packages/torch/jit/_check.py:177: UserWarning: The TorchScript type system doesn't support instance-level annotations on empty non-base types in `__init__`. Instead, either 1) use a type annotation in the class body, or 2) wrap the type in `torch.jit.Attribute`.\n",
      "  warnings.warn(\n",
      "/home/m3rg2000/miniconda3/envs/matsciml/lib/python3.9/site-packages/torch/jit/_check.py:177: UserWarning: The TorchScript type system doesn't support instance-level annotations on empty non-base types in `__init__`. Instead, either 1) use a type annotation in the class body, or 2) wrap the type in `torch.jit.Attribute`.\n",
      "  warnings.warn(\n",
      "/home/m3rg2000/miniconda3/envs/matsciml/lib/python3.9/site-packages/torch/jit/_check.py:177: UserWarning: The TorchScript type system doesn't support instance-level annotations on empty non-base types in `__init__`. Instead, either 1) use a type annotation in the class body, or 2) wrap the type in `torch.jit.Attribute`.\n",
      "  warnings.warn(\n",
      "/home/m3rg2000/miniconda3/envs/matsciml/lib/python3.9/site-packages/torch/jit/_check.py:177: UserWarning: The TorchScript type system doesn't support instance-level annotations on empty non-base types in `__init__`. Instead, either 1) use a type annotation in the class body, or 2) wrap the type in `torch.jit.Attribute`.\n",
      "  warnings.warn(\n",
      "/home/m3rg2000/miniconda3/envs/matsciml/lib/python3.9/site-packages/torch/jit/_check.py:177: UserWarning: The TorchScript type system doesn't support instance-level annotations on empty non-base types in `__init__`. Instead, either 1) use a type annotation in the class body, or 2) wrap the type in `torch.jit.Attribute`.\n",
      "  warnings.warn(\n",
      "/home/m3rg2000/miniconda3/envs/matsciml/lib/python3.9/site-packages/torch/jit/_check.py:177: UserWarning: The TorchScript type system doesn't support instance-level annotations on empty non-base types in `__init__`. Instead, either 1) use a type annotation in the class body, or 2) wrap the type in `torch.jit.Attribute`.\n",
      "  warnings.warn(\n",
      "/home/m3rg2000/miniconda3/envs/matsciml/lib/python3.9/site-packages/torch/jit/_check.py:177: UserWarning: The TorchScript type system doesn't support instance-level annotations on empty non-base types in `__init__`. Instead, either 1) use a type annotation in the class body, or 2) wrap the type in `torch.jit.Attribute`.\n",
      "  warnings.warn(\n",
      "/home/m3rg2000/miniconda3/envs/matsciml/lib/python3.9/site-packages/pytorch_lightning/utilities/parsing.py:199: Attribute 'gate' is an instance of `nn.Module` and is already saved during checkpointing. It is recommended to ignore them using `self.save_hyperparameters(ignore=['gate'])`.\n",
      "No ``atomic_energies`` provided, defaulting to ones.\n",
      "/home/m3rg2000/miniconda3/envs/matsciml/lib/python3.9/site-packages/torch/jit/_check.py:177: UserWarning: The TorchScript type system doesn't support instance-level annotations on empty non-base types in `__init__`. Instead, either 1) use a type annotation in the class body, or 2) wrap the type in `torch.jit.Attribute`.\n",
      "  warnings.warn(\n",
      "/home/m3rg2000/miniconda3/envs/matsciml/lib/python3.9/site-packages/torch/jit/_check.py:177: UserWarning: The TorchScript type system doesn't support instance-level annotations on empty non-base types in `__init__`. Instead, either 1) use a type annotation in the class body, or 2) wrap the type in `torch.jit.Attribute`.\n",
      "  warnings.warn(\n",
      "/home/m3rg2000/miniconda3/envs/matsciml/lib/python3.9/site-packages/torch/jit/_check.py:177: UserWarning: The TorchScript type system doesn't support instance-level annotations on empty non-base types in `__init__`. Instead, either 1) use a type annotation in the class body, or 2) wrap the type in `torch.jit.Attribute`.\n",
      "  warnings.warn(\n",
      "/home/m3rg2000/miniconda3/envs/matsciml/lib/python3.9/site-packages/torch/jit/_check.py:177: UserWarning: The TorchScript type system doesn't support instance-level annotations on empty non-base types in `__init__`. Instead, either 1) use a type annotation in the class body, or 2) wrap the type in `torch.jit.Attribute`.\n",
      "  warnings.warn(\n",
      "/home/m3rg2000/miniconda3/envs/matsciml/lib/python3.9/site-packages/torch/jit/_check.py:177: UserWarning: The TorchScript type system doesn't support instance-level annotations on empty non-base types in `__init__`. Instead, either 1) use a type annotation in the class body, or 2) wrap the type in `torch.jit.Attribute`.\n",
      "  warnings.warn(\n",
      "/home/m3rg2000/miniconda3/envs/matsciml/lib/python3.9/site-packages/torch/jit/_check.py:177: UserWarning: The TorchScript type system doesn't support instance-level annotations on empty non-base types in `__init__`. Instead, either 1) use a type annotation in the class body, or 2) wrap the type in `torch.jit.Attribute`.\n",
      "  warnings.warn(\n",
      "/home/m3rg2000/miniconda3/envs/matsciml/lib/python3.9/site-packages/torch/jit/_check.py:177: UserWarning: The TorchScript type system doesn't support instance-level annotations on empty non-base types in `__init__`. Instead, either 1) use a type annotation in the class body, or 2) wrap the type in `torch.jit.Attribute`.\n",
      "  warnings.warn(\n",
      "/home/m3rg2000/miniconda3/envs/matsciml/lib/python3.9/site-packages/pytorch_lightning/utilities/parsing.py:199: Attribute 'gate' is an instance of `nn.Module` and is already saved during checkpointing. It is recommended to ignore them using `self.save_hyperparameters(ignore=['gate'])`.\n"
     ]
    }
   ],
   "source": [
    "checkpoint_path = \"/home/m3rg2000/Simulation/checkpoints-2024/mace_fr.ckpt\"\n",
    "Loaded_model = multitask_from_checkpoint(checkpoint_path)"
   ]
  },
  {
   "cell_type": "code",
   "execution_count": 9,
   "metadata": {},
   "outputs": [],
   "source": [
    "\n",
    "a2g=AtomsToGraphs(max_neigh=200,\n",
    "            radius=6,\n",
    "            r_energy=False,\n",
    "            r_forces=False,\n",
    "            r_distances=False,\n",
    "            r_edges=True,\n",
    "            r_fixed=True,)\n",
    "\n",
    "\n",
    "PBCTransform=PeriodicPropertiesTransform(cutoff_radius=6.0, adaptive_cutoff=True)\n",
    "\n",
    "def convAtomstoBatch(atoms):\n",
    "    data_obj=a2g.convert(atoms)\n",
    "    Reformatted_batch={\n",
    "        'cell' : data_obj.cell,\n",
    "        'natoms' :  torch.Tensor([data_obj.natoms]).unsqueeze(0),\n",
    "        'edge_index' : data_obj.edge_index,\n",
    "        'cell_offsets': data_obj.cell_offsets,\n",
    "        'atomic_numbers': data_obj.atomic_numbers,\n",
    "        'y' : None,\n",
    "        'pos' : data_obj.pos,\n",
    "        'force' : None, \n",
    "        'fixed' : [data_obj.fixed],\n",
    "        'tags' : None,\n",
    "        'sid' :None,\n",
    "        'fid' : None,\n",
    "        'dataset' : 'S2EFDataset',\n",
    "        'graph' : data_list_collater([data_obj]),\n",
    "    }\n",
    "    Reformatted_batch=PBCTransform(Reformatted_batch)\n",
    "    return Reformatted_batch"
   ]
  },
  {
   "cell_type": "code",
   "execution_count": 10,
   "metadata": {},
   "outputs": [],
   "source": [
    "class MACE_ASEcalculator(Calculator):\n",
    "    \"\"\"Simulation ASE Calculator\"\"\"\n",
    "\n",
    "    implemented_properties = [\"energy\" , \"forces\", \"stress\"]\n",
    "\n",
    "    def __init__(\n",
    "        self,\n",
    "        model,\n",
    "        **kwargs\n",
    "    ):\n",
    "        Calculator.__init__(self, **kwargs)\n",
    "        self.results = {}\n",
    "\n",
    "        self.model = model\n",
    "        \n",
    "        \n",
    "    # pylint: disable=dangerous-default-value\n",
    "    def calculate(self, atoms=None, properties=None, system_changes=all_changes):\n",
    "        \"\"\"\n",
    "        Calculate properties.\n",
    "        :param atoms: ase.Atoms object\n",
    "        :param properties: [str], properties to be computed, used by ASE internally\n",
    "        :param system_changes: [str], system changes since last calculation, used by ASE internally\n",
    "        :return:\n",
    "        \"\"\"\n",
    "        # call to base-class to set atoms attribute\n",
    "        Calculator.calculate(self, atoms)\n",
    "\n",
    "        # prepare data\n",
    "        batch=convAtomstoBatch(atoms)\n",
    "\n",
    "        # predict + extract data\n",
    "        out = self.model.forward(batch)\n",
    "        energy = out['regression0']['corrected_total_energy'].detach().cpu().item()\n",
    "        forces = out['force_regression0'][\"force\"].detach().cpu().numpy()\n",
    "        stress = out['force_regression0'][\"stress\"].squeeze(0).detach().cpu().numpy()\n",
    "        # store results\n",
    "        E = energy\n",
    "        stress= np.array([stress[0, 0],\n",
    "                                   stress[1, 1],\n",
    "                                   stress[2, 2],\n",
    "                                   stress[1, 2],\n",
    "                                   stress[0, 2],\n",
    "                                   stress[0, 1]])\n",
    "        self.results = {\n",
    "            \"energy\": E,\n",
    "            # force has units eng / len:\n",
    "            \"forces\": forces,\n",
    "            \"stress\" : stress,\n",
    "        }\n"
   ]
  },
  {
   "cell_type": "code",
   "execution_count": 13,
   "metadata": {},
   "outputs": [],
   "source": [
    "def run_simulation(calculator,atoms, pressure=1.01325, temperature=298, timestep=0.1, steps=10,writepath=None,writeTraj=False):\n",
    "         \n",
    "    # Define the temperature and pressure\n",
    "    \n",
    "    init_conf=atoms\n",
    "    init_conf.set_calculator(calculator)\n",
    "    # Initialize the NPT dynamics\n",
    "    dyn = NPTBerendsen(init_conf, timestep=timestep * units.fs, temperature_K=temperature,\n",
    "                       taut=100 * units.fs, pressure_au=pressure * units.bar,\n",
    "                       taup=1000 * units.fs, compressibility_au=4.57e-5 / units.bar)\n",
    "    density=[]\n",
    "    angles=[]\n",
    "    lattice_parameters=[]\n",
    "    \n",
    "    def write_frame():\n",
    "        if(writepath!=None):\n",
    "            dyn.atoms.write(writepath, append=True)\n",
    "    Traj=[]\n",
    "    if writeTraj:\n",
    "        def recordTraj(a=atoms):\n",
    "            Traj.append(a.copy())\n",
    "        dyn.attach(recordTraj, interval=1)\n",
    "    dyn.attach(write_frame, interval=1)\n",
    "    dyn.run(steps)\n",
    "    \n",
    "    # Calculate average values\n",
    "    \n",
    "    return  Traj\n",
    "\n",
    "\n",
    "    \n"
   ]
  },
  {
   "cell_type": "code",
   "execution_count": 14,
   "metadata": {},
   "outputs": [
    {
     "name": "stderr",
     "output_type": "stream",
     "text": [
      "/home/m3rg2000/miniconda3/envs/matsciml/lib/python3.9/site-packages/ase/md/nvtberendsen.py:95: RuntimeWarning: divide by zero encountered in scalar divide\n",
      "  (self.temperature / old_temperature - 1.0) *\n"
     ]
    },
    {
     "name": "stdout",
     "output_type": "stream",
     "text": [
      "MD finished!\n"
     ]
    }
   ],
   "source": [
    "start_time=time.time()\n",
    "\n",
    "calculator = MACE_ASEcalculator(Loaded_model)\n",
    "#calculator.model.double() # change model weights type to double precision(hack to avoid error)\n",
    "# Path to the CIF file\n",
    "#cif_file_path = \"/home/m3rg2000/Simulation/checkpoints-2024/Example.cif\"\n",
    "cif_file_path = \"/home/m3rg2000/Simulation/checkpoints-2024/S2EF.extxyz\"\n",
    "\n",
    "# Read CIF file using ASE\n",
    "input_atoms = read(cif_file_path)\n",
    "\n",
    "run_simulation(calculator,input_atoms)\n",
    "\n",
    "print(f\"MD finished!\")\n"
   ]
  },
  {
   "cell_type": "code",
   "execution_count": null,
   "metadata": {},
   "outputs": [],
   "source": [
    "batch=convAtomstoBatch(atoms)"
   ]
  },
  {
   "cell_type": "code",
   "execution_count": null,
   "metadata": {},
   "outputs": [],
   "source": [
    "Res=Loaded_model(batch)"
   ]
  },
  {
   "cell_type": "code",
   "execution_count": null,
   "metadata": {},
   "outputs": [],
   "source": [
    "Loaded_model"
   ]
  },
  {
   "cell_type": "code",
   "execution_count": null,
   "metadata": {},
   "outputs": [],
   "source": []
  }
 ],
 "metadata": {
  "kernelspec": {
   "display_name": "Python (matsciml)",
   "language": "python",
   "name": "matsciml"
  },
  "language_info": {
   "codemirror_mode": {
    "name": "ipython",
    "version": 3
   },
   "file_extension": ".py",
   "mimetype": "text/x-python",
   "name": "python",
   "nbconvert_exporter": "python",
   "pygments_lexer": "ipython3",
   "version": "3.9.19"
  }
 },
 "nbformat": 4,
 "nbformat_minor": 4
}
